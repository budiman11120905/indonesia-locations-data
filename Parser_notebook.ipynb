{
  "nbformat": 4,
  "nbformat_minor": 0,
  "metadata": {
    "colab": {
      "name": "Village_LatLong_Approx.ipynb",
      "provenance": [],
      "toc_visible": true,
      "authorship_tag": "ABX9TyPZ/BpRAbGFKpu5eGxqk7Tj",
      "include_colab_link": true
    },
    "kernelspec": {
      "name": "python3",
      "display_name": "Python 3"
    },
    "language_info": {
      "name": "python"
    }
  },
  "cells": [
    {
      "cell_type": "markdown",
      "metadata": {
        "id": "view-in-github",
        "colab_type": "text"
      },
      "source": [
        "<a href=\"https://colab.research.google.com/github/coll-j/indonesia-locations-data/blob/main/Parser_notebook.ipynb\" target=\"_parent\"><img src=\"https://colab.research.google.com/assets/colab-badge.svg\" alt=\"Open In Colab\"/></a>"
      ]
    },
    {
      "cell_type": "markdown",
      "metadata": {
        "id": "l6G7tKyt5feg"
      },
      "source": [
        "# Downloads, Installs, Imports, and File names"
      ]
    },
    {
      "cell_type": "code",
      "metadata": {
        "id": "6da5IZsbVMgI"
      },
      "source": [
        "!wget https://raw.githubusercontent.com/pararawendy/border-desa-indonesia-geojson/master/indonesia_villages_border.geojson.zip"
      ],
      "execution_count": null,
      "outputs": []
    },
    {
      "cell_type": "code",
      "metadata": {
        "id": "UxhTiXTsV9Eo"
      },
      "source": [
        "!unzip indonesia_villages_border.geojson.zip"
      ],
      "execution_count": null,
      "outputs": []
    },
    {
      "cell_type": "code",
      "metadata": {
        "id": "tGTRzAaj7ai2"
      },
      "source": [
        "!wget https://raw.githubusercontent.com/benangmerah/wilayah/master/datasources/daftar-nama-daerah.csv"
      ],
      "execution_count": null,
      "outputs": []
    },
    {
      "cell_type": "code",
      "metadata": {
        "id": "6QloGT5FZBY7"
      },
      "source": [
        "!pip install ijson"
      ],
      "execution_count": null,
      "outputs": []
    },
    {
      "cell_type": "code",
      "metadata": {
        "id": "MwxhYvsFVflN"
      },
      "source": [
        "import pandas as pd\n",
        "import ijson # large json file parser\n",
        "import numpy as np\n",
        "import re\n",
        "import json\n",
        "from itertools import zip_longest\n",
        "from google.colab import files\n",
        "\n",
        "JSON_TO_CSV_INPUT_PATH = './indonesia_villages_border.geojson'\n",
        "JSON_TO_CSV_OUT_PATH = 'Village_LongLat_Approx.csv'\n",
        "\n",
        "PROV_KOTA_INPUT_1_PATH = './daftar-nama-daerah.csv'\n",
        "PROV_KOTA_INPUT_2_PATH = './list_location_id_csv.csv'\n",
        "\n",
        "PROV_INPUT_PATH = './provinces.csv'\n",
        "PROV_OUT_PATH = 'provinces_lat_long.csv'\n",
        "\n",
        "KOTA_INPUT_PATH = './kota_kab.csv'\n",
        "KOTA_OUPUT_PATH = 'kota_kab_lat_long.csv'\n",
        "\n",
        "KEC_INPUT_PATH = './kecamatan.csv'\n",
        "KEC_OUTPUT_PATH = 'kecamatan_lat_long.csv'\n",
        "\n",
        "KEL_INPUT_PATH = 'kelurahan.csv'\n",
        "KEL_OUTPUT_PATH = 'kelurahan_lat_long.csv'"
      ],
      "execution_count": 16,
      "outputs": []
    },
    {
      "cell_type": "markdown",
      "metadata": {
        "id": "CNWvf2l4xxle"
      },
      "source": [
        "# Parse Json into csv"
      ]
    },
    {
      "cell_type": "code",
      "metadata": {
        "colab": {
          "base_uri": "https://localhost:8080/"
        },
        "id": "co4bUkeOYxs-",
        "outputId": "6beb2a51-eca4-4421-e45b-009b6cedceaa"
      },
      "source": [
        "# test is an example of data we acquired from the geojson file\n",
        "test = [[[109.3062, -0.4433, ], [109.3037, -0.4409, ], [109.2975, -0.4374, ], [109.2955, -0.434, ], [109.2921, -0.4313, ], [109.2899, -0.4291, ], [109.2801, -0.4268, ], [109.2781, -0.4265, ], [109.2742, -0.4346, ], [109.2696, -0.4429, ], [109.2692, -0.4488, ], [109.2693, -0.4492, ], [109.2695, -0.45, ], [109.2583, -0.4657, ], [109.2581, -0.4659, ], [109.2483, -0.4724, ], [109.2411, -0.4768, ], [109.2313, -0.483, ], [109.2293, -0.4856, ], [109.2273, -0.4882, ], [109.2327, -0.4974, ], [109.2533, -0.5022, ], [109.2839, -0.5122, ], [109.2897, -0.5132, ], [109.2899, -0.5134, ], [109.2919, -0.5153, ], [109.2923, -0.5161, ], [109.2934, -0.5173, ], [109.2935, -0.5176, ], [109.2977, -0.5214, ], [109.3009, -0.5249, ], [109.3284, -0.555, ], [109.3291, -0.5558, ], [109.3302, -0.557, ], [109.3322, -0.5557, ], [109.3337, -0.5546, ], [109.334, -0.5534, ], [109.3344, -0.553, ], [109.3351, -0.5512, ], [109.3362, -0.5496, ], [109.3368, -0.5482, ], [109.3379, -0.5468, ], [109.3391, -0.5456, ], [109.3399, -0.5443, ], [109.34, -0.5431, ], [109.3399, -0.5421, ], [109.3395, -0.5407, ], [109.339, -0.5399, ], [109.3385, -0.5387, ], [109.3379, -0.5377, ], [109.3378, -0.5364, ], [109.3378, -0.5344, ], [109.3382, -0.5327, ], [109.3386, -0.5312, ], [109.3394, -0.5296, ], [109.3402, -0.5284, ], [109.341, -0.5274, ], [109.3419, -0.5264, ], [109.3431, -0.5253, ], [109.3456, -0.5236, ], [109.3473, -0.5224, ], [109.3486, -0.5213, ], [109.3499, -0.5201, ], [109.3512, -0.5188, ], [109.3523, -0.5179, ], [109.3539, -0.5155, ], [109.3548, -0.5146, ], [109.3564, -0.5132, ], [109.3573, -0.5121, ], [109.358, -0.5111, ], [109.3589, -0.5104, ], [109.3598, -0.5097, ], [109.3609, -0.5091, ], [109.3627, -0.5086, ], [109.3642, -0.5082, ], [109.3648, -0.508, ], [109.365, -0.508, ], [109.366, -0.5071, ], [109.3694, -0.5029, ], [109.3707, -0.5009, ], [109.3721, -0.4994, ], [109.3737, -0.498, ], [109.3751, -0.4963, ], [109.3759, -0.4951, ], [109.3767, -0.4936, ], [109.3767, -0.4923, ], [109.3766, -0.491, ], [109.376, -0.4893, ], [109.3756, -0.4879, ], [109.3748, -0.4862, ], [109.3746, -0.4853, ], [109.3738, -0.4838, ], [109.3734, -0.4829, ], [109.373, -0.482, ], [109.3726, -0.4813, ], [109.3713, -0.4824, ], [109.3693, -0.4803, ], [109.3665, -0.4837, ], [109.3624, -0.4851, ], [109.3631, -0.481, ], [109.3665, -0.4693, ], [109.3659, -0.4652, ], [109.3631, -0.4652, ], [109.3576, -0.4693, ], [109.3563, -0.469, ], [109.3549, -0.4686, ], [109.3508, -0.4631, ], [109.343, -0.4536, ], [109.3418, -0.4522, ], [109.3341, -0.4457, ], [109.3254, -0.4439, ], [109.3151, -0.4453, ], [109.3082, -0.4453, ], [109.3062, -0.4433, ], ], [[109.2703, -0.4699, ], [109.2887, -0.4466, ], [109.3307, -0.4685, ], [109.3113, -0.4919, ], [109.2703, -0.4699, ], ], ]\n",
        "\n",
        "def dim(a):\n",
        "    if not type(a) == list:\n",
        "        return []\n",
        "    return [len(a)] + dim(a[0])\n",
        "\n",
        "dim(test)"
      ],
      "execution_count": null,
      "outputs": [
        {
          "output_type": "execute_result",
          "data": {
            "text/plain": [
              "[2, 114, 2]"
            ]
          },
          "metadata": {
            "tags": []
          },
          "execution_count": 141
        }
      ]
    },
    {
      "cell_type": "code",
      "metadata": {
        "id": "ZLH30zq-kerr"
      },
      "source": [
        "def reduce_dim(array_3d): # some data are formed in a 3d array, so we need to reduce it into 2d array\n",
        "  out = []\n",
        "  for x in array_3d:\n",
        "    for y in x:\n",
        "      print(y)\n",
        "      out.append([97.3112, 3.1187])\n",
        "\n",
        "  return out\n",
        "\n",
        "out = reduce_dim(test)\n",
        "dim(out)"
      ],
      "execution_count": null,
      "outputs": []
    },
    {
      "cell_type": "code",
      "metadata": {
        "id": "qgm6QZ4n_e74"
      },
      "source": [
        "data = ijson.parse(open(JSON_TO_CSV_INPUT_PATH, 'r'))\n",
        "json_str = ''\n",
        "start = True\n",
        "in_array = 0\n",
        "\n",
        "df = pd.DataFrame(columns=['province', 'district', 'sub_district', 'village', 'approx_long', 'approx_lat'])\n",
        "\n",
        "def get_str(event, value, in_array):\n",
        "  # get the value given the event\n",
        "  # ex: if the event is start_map then it's a start of a dict\n",
        "  # hence, returns '{'\n",
        "  return{\n",
        "      'start_map': '{',\n",
        "      'end_map': '}',\n",
        "      'start_array': '[' if in_array > 0 else '\"[', # if it's the beginning of an array, we need to add '\"' (json format)\n",
        "      'end_array': '], ' if in_array > 0 else ']\"',\n",
        "      'map_key': '\"{}\": '.format(value),\n",
        "      'string': '\"{}\", '.format(value),\n",
        "      'number': '{}, '.format(value),\n",
        "  }[event]\n",
        "for prefix, event, value in data:\n",
        "  if start: # ignore the first '['\n",
        "    start = False\n",
        "    continue\n",
        "\n",
        "  if event == 'end_array':\n",
        "    in_array -= 1\n",
        "  if value is not None and event != 'number':\n",
        "    value = re.sub('[\\\"]', '', value)\n",
        "  json_str += get_str(event, value, in_array)\n",
        "  if event == 'start_array':\n",
        "    in_array += 1\n",
        "  if event == 'end_map':\n",
        "    try:\n",
        "      row = json.loads(json_str)\n",
        "      coords = eval(row['border'])\n",
        "      if len(dim(coords)) > 2:\n",
        "        coords = reduce_dim(coords)\n",
        "      approx_long_lat = np.array(coords).mean(axis=0)\n",
        "      row['approx_long'] = approx_long_lat[0]\n",
        "      row['approx_lat'] = approx_long_lat[1]\n",
        "      del row['border']\n",
        "      df = df.append(row, ignore_index=True)\n",
        "    except Exception as e:\n",
        "      # debugging\n",
        "      print(json_str)\n",
        "      print(str(e))\n",
        "      break\n",
        "\n",
        "    json_str = ''\n",
        "    try:\n",
        "      del row\n",
        "    except:\n",
        "      pass\n",
        "\n",
        "df.head()"
      ],
      "execution_count": null,
      "outputs": []
    },
    {
      "cell_type": "code",
      "metadata": {
        "colab": {
          "base_uri": "https://localhost:8080/",
          "height": 406
        },
        "id": "Om1JqA92KCi6",
        "outputId": "8404724e-e60b-4187-f057-5c4291a80608"
      },
      "source": [
        "df"
      ],
      "execution_count": null,
      "outputs": [
        {
          "output_type": "execute_result",
          "data": {
            "text/html": [
              "<div>\n",
              "<style scoped>\n",
              "    .dataframe tbody tr th:only-of-type {\n",
              "        vertical-align: middle;\n",
              "    }\n",
              "\n",
              "    .dataframe tbody tr th {\n",
              "        vertical-align: top;\n",
              "    }\n",
              "\n",
              "    .dataframe thead th {\n",
              "        text-align: right;\n",
              "    }\n",
              "</style>\n",
              "<table border=\"1\" class=\"dataframe\">\n",
              "  <thead>\n",
              "    <tr style=\"text-align: right;\">\n",
              "      <th></th>\n",
              "      <th>province</th>\n",
              "      <th>district</th>\n",
              "      <th>sub_district</th>\n",
              "      <th>village</th>\n",
              "      <th>approx_long</th>\n",
              "      <th>approx_lat</th>\n",
              "    </tr>\n",
              "  </thead>\n",
              "  <tbody>\n",
              "    <tr>\n",
              "      <th>0</th>\n",
              "      <td>ACEH</td>\n",
              "      <td>ACEH SELATAN</td>\n",
              "      <td>BAKONGAN</td>\n",
              "      <td>KEUDE BAKONGAN</td>\n",
              "      <td>97.475542</td>\n",
              "      <td>2.928458</td>\n",
              "    </tr>\n",
              "    <tr>\n",
              "      <th>1</th>\n",
              "      <td>ACEH</td>\n",
              "      <td>ACEH SELATAN</td>\n",
              "      <td>BAKONGAN</td>\n",
              "      <td>UJUNG MANGKI</td>\n",
              "      <td>97.446373</td>\n",
              "      <td>2.941181</td>\n",
              "    </tr>\n",
              "    <tr>\n",
              "      <th>2</th>\n",
              "      <td>ACEH</td>\n",
              "      <td>ACEH SELATAN</td>\n",
              "      <td>BAKONGAN</td>\n",
              "      <td>UJUNG PADANG</td>\n",
              "      <td>97.493403</td>\n",
              "      <td>2.941533</td>\n",
              "    </tr>\n",
              "    <tr>\n",
              "      <th>3</th>\n",
              "      <td>ACEH</td>\n",
              "      <td>ACEH SELATAN</td>\n",
              "      <td>BAKONGAN</td>\n",
              "      <td>KAMPONG DRIEN</td>\n",
              "      <td>97.478184</td>\n",
              "      <td>2.977676</td>\n",
              "    </tr>\n",
              "    <tr>\n",
              "      <th>4</th>\n",
              "      <td>ACEH</td>\n",
              "      <td>ACEH SELATAN</td>\n",
              "      <td>BAKONGAN</td>\n",
              "      <td>DARUL IKHSAN</td>\n",
              "      <td>97.418400</td>\n",
              "      <td>2.956487</td>\n",
              "    </tr>\n",
              "    <tr>\n",
              "      <th>...</th>\n",
              "      <td>...</td>\n",
              "      <td>...</td>\n",
              "      <td>...</td>\n",
              "      <td>...</td>\n",
              "      <td>...</td>\n",
              "      <td>...</td>\n",
              "    </tr>\n",
              "    <tr>\n",
              "      <th>83317</th>\n",
              "      <td>PAPUA BARAT</td>\n",
              "      <td>KOTA SORONG</td>\n",
              "      <td>MALAIMSIMSA</td>\n",
              "      <td>KLABULU</td>\n",
              "      <td>131.306823</td>\n",
              "      <td>-0.870793</td>\n",
              "    </tr>\n",
              "    <tr>\n",
              "      <th>83318</th>\n",
              "      <td>PAPUA BARAT</td>\n",
              "      <td>KOTA SORONG</td>\n",
              "      <td>MALADUM MES</td>\n",
              "      <td>SUPRAU</td>\n",
              "      <td>131.286656</td>\n",
              "      <td>-0.816865</td>\n",
              "    </tr>\n",
              "    <tr>\n",
              "      <th>83319</th>\n",
              "      <td>PAPUA BARAT</td>\n",
              "      <td>KOTA SORONG</td>\n",
              "      <td>MALADUM MES</td>\n",
              "      <td>TAMPA GARAM</td>\n",
              "      <td>131.253431</td>\n",
              "      <td>-0.819254</td>\n",
              "    </tr>\n",
              "    <tr>\n",
              "      <th>83320</th>\n",
              "      <td>PAPUA BARAT</td>\n",
              "      <td>KOTA SORONG</td>\n",
              "      <td>MALADUM MES</td>\n",
              "      <td>SAOKA</td>\n",
              "      <td>131.352492</td>\n",
              "      <td>-0.794798</td>\n",
              "    </tr>\n",
              "    <tr>\n",
              "      <th>83321</th>\n",
              "      <td>PAPUA BARAT</td>\n",
              "      <td>KOTA SORONG</td>\n",
              "      <td>MALADUM MES</td>\n",
              "      <td>TANJUNG KASUARI</td>\n",
              "      <td>131.234620</td>\n",
              "      <td>-0.824991</td>\n",
              "    </tr>\n",
              "  </tbody>\n",
              "</table>\n",
              "<p>83322 rows × 6 columns</p>\n",
              "</div>"
            ],
            "text/plain": [
              "          province      district  ... approx_long approx_lat\n",
              "0             ACEH  ACEH SELATAN  ...   97.475542   2.928458\n",
              "1             ACEH  ACEH SELATAN  ...   97.446373   2.941181\n",
              "2             ACEH  ACEH SELATAN  ...   97.493403   2.941533\n",
              "3             ACEH  ACEH SELATAN  ...   97.478184   2.977676\n",
              "4             ACEH  ACEH SELATAN  ...   97.418400   2.956487\n",
              "...            ...           ...  ...         ...        ...\n",
              "83317  PAPUA BARAT   KOTA SORONG  ...  131.306823  -0.870793\n",
              "83318  PAPUA BARAT   KOTA SORONG  ...  131.286656  -0.816865\n",
              "83319  PAPUA BARAT   KOTA SORONG  ...  131.253431  -0.819254\n",
              "83320  PAPUA BARAT   KOTA SORONG  ...  131.352492  -0.794798\n",
              "83321  PAPUA BARAT   KOTA SORONG  ...  131.234620  -0.824991\n",
              "\n",
              "[83322 rows x 6 columns]"
            ]
          },
          "metadata": {
            "tags": []
          },
          "execution_count": 146
        }
      ]
    },
    {
      "cell_type": "code",
      "metadata": {
        "id": "0g3rVqdIZfzV"
      },
      "source": [
        "df.to_csv(JSON_TO_CSV_OUT_PATH) # save the file"
      ],
      "execution_count": null,
      "outputs": []
    },
    {
      "cell_type": "markdown",
      "metadata": {
        "id": "7ePSr-0N8-Mm"
      },
      "source": [
        "# Provinsi"
      ]
    },
    {
      "cell_type": "code",
      "metadata": {
        "id": "JjABb_4XKQeg",
        "colab": {
          "base_uri": "https://localhost:8080/",
          "height": 197
        },
        "outputId": "56a5c536-f58e-4937-f22c-b57fb8df72e1"
      },
      "source": [
        "df = pd.read_csv(PROV_KOTA_INPUT_PATH)\n",
        "\n",
        "df.head()"
      ],
      "execution_count": null,
      "outputs": [
        {
          "output_type": "execute_result",
          "data": {
            "text/html": [
              "<div>\n",
              "<style scoped>\n",
              "    .dataframe tbody tr th:only-of-type {\n",
              "        vertical-align: middle;\n",
              "    }\n",
              "\n",
              "    .dataframe tbody tr th {\n",
              "        vertical-align: top;\n",
              "    }\n",
              "\n",
              "    .dataframe thead th {\n",
              "        text-align: right;\n",
              "    }\n",
              "</style>\n",
              "<table border=\"1\" class=\"dataframe\">\n",
              "  <thead>\n",
              "    <tr style=\"text-align: right;\">\n",
              "      <th></th>\n",
              "      <th>nid</th>\n",
              "      <th>parent_nid</th>\n",
              "      <th>name</th>\n",
              "      <th>serial</th>\n",
              "      <th>type</th>\n",
              "      <th>latitude</th>\n",
              "      <th>longitude</th>\n",
              "      <th>status</th>\n",
              "    </tr>\n",
              "  </thead>\n",
              "  <tbody>\n",
              "    <tr>\n",
              "      <th>0</th>\n",
              "      <td>1</td>\n",
              "      <td>0</td>\n",
              "      <td>Provinsi Aceh</td>\n",
              "      <td>11</td>\n",
              "      <td>1</td>\n",
              "      <td>4.695135</td>\n",
              "      <td>96.749399</td>\n",
              "      <td>1</td>\n",
              "    </tr>\n",
              "    <tr>\n",
              "      <th>1</th>\n",
              "      <td>2</td>\n",
              "      <td>0</td>\n",
              "      <td>Provinsi Sumatera Utara</td>\n",
              "      <td>12</td>\n",
              "      <td>1</td>\n",
              "      <td>2.115355</td>\n",
              "      <td>99.545097</td>\n",
              "      <td>1</td>\n",
              "    </tr>\n",
              "    <tr>\n",
              "      <th>2</th>\n",
              "      <td>3</td>\n",
              "      <td>0</td>\n",
              "      <td>Provinsi Sumatera Barat</td>\n",
              "      <td>13</td>\n",
              "      <td>1</td>\n",
              "      <td>-0.739940</td>\n",
              "      <td>100.800005</td>\n",
              "      <td>1</td>\n",
              "    </tr>\n",
              "    <tr>\n",
              "      <th>3</th>\n",
              "      <td>4</td>\n",
              "      <td>0</td>\n",
              "      <td>Provinsi Riau</td>\n",
              "      <td>14</td>\n",
              "      <td>1</td>\n",
              "      <td>0.293347</td>\n",
              "      <td>101.706829</td>\n",
              "      <td>1</td>\n",
              "    </tr>\n",
              "    <tr>\n",
              "      <th>4</th>\n",
              "      <td>5</td>\n",
              "      <td>0</td>\n",
              "      <td>Provinsi Jambi</td>\n",
              "      <td>15</td>\n",
              "      <td>1</td>\n",
              "      <td>-1.485183</td>\n",
              "      <td>102.438058</td>\n",
              "      <td>1</td>\n",
              "    </tr>\n",
              "  </tbody>\n",
              "</table>\n",
              "</div>"
            ],
            "text/plain": [
              "   nid  parent_nid                     name  ...  latitude   longitude  status\n",
              "0    1           0            Provinsi Aceh  ...  4.695135   96.749399       1\n",
              "1    2           0  Provinsi Sumatera Utara  ...  2.115355   99.545097       1\n",
              "2    3           0  Provinsi Sumatera Barat  ... -0.739940  100.800005       1\n",
              "3    4           0            Provinsi Riau  ...  0.293347  101.706829       1\n",
              "4    5           0           Provinsi Jambi  ... -1.485183  102.438058       1\n",
              "\n",
              "[5 rows x 8 columns]"
            ]
          },
          "metadata": {
            "tags": []
          },
          "execution_count": 10
        }
      ]
    },
    {
      "cell_type": "code",
      "metadata": {
        "colab": {
          "base_uri": "https://localhost:8080/"
        },
        "id": "LtfsLagu9DvI",
        "outputId": "53120798-5946-4c7d-bccc-05e309fb2c73"
      },
      "source": [
        "# turn it into a dict for easy access\n",
        "dict_data = {}\n",
        "for index, row in df.iterrows():\n",
        "  if re.search('^Provinsi *', row['name']):\n",
        "    dict_data[row['name'][9:].upper()] = { 'lat': row['latitude'], 'long': row['longitude']}\n",
        "\n",
        "dict_data"
      ],
      "execution_count": null,
      "outputs": [
        {
          "output_type": "execute_result",
          "data": {
            "text/plain": [
              "{'ACEH': {'lat': 4.695135, 'long': 96.74939930000001},\n",
              " 'BALI': {'lat': -8.409517800000001, 'long': 115.18891599999999},\n",
              " 'BANTEN': {'lat': -6.4058171999999995, 'long': 106.0640179},\n",
              " 'BENGKULU': {'lat': -3.5778470999999996, 'long': 102.3463875},\n",
              " 'DI YOGYAKARTA': {'lat': -7.8753849, 'long': 110.4262088},\n",
              " 'DKI JAKARTA': {'lat': -6.211544, 'long': 106.84517199999999},\n",
              " 'GORONTALO': {'lat': 0.6999371999999999, 'long': 122.44672379999999},\n",
              " 'JAMBI': {'lat': -1.4851831, 'long': 102.43805809999999},\n",
              " 'JAWA BARAT': {'lat': -7.090911, 'long': 107.66888700000001},\n",
              " 'JAWA TENGAH': {'lat': -7.150975, 'long': 110.1402594},\n",
              " 'JAWA TIMUR': {'lat': -7.536063900000001, 'long': 112.2384017},\n",
              " 'KALIMANTAN BARAT': {'lat': -0.2787808, 'long': 111.47528510000001},\n",
              " 'KALIMANTAN SELATAN': {'lat': -3.0926415, 'long': 115.28375849999999},\n",
              " 'KALIMANTAN TENGAH': {'lat': -1.6814878, 'long': 113.38235449999999},\n",
              " 'KALIMANTAN TIMUR': {'lat': 1.6406296000000002, 'long': 116.419389},\n",
              " 'KEPULAUAN BANGKA BELITUNG': {'lat': -2.7410513, 'long': 106.4405872},\n",
              " 'KEPULAUAN RIAU': {'lat': 3.9456513999999996, 'long': 108.1428669},\n",
              " 'LAMPUNG': {'lat': -4.5585849000000005, 'long': 105.40680790000002},\n",
              " 'MALUKU': {'lat': -3.2384616000000004, 'long': 130.1452734},\n",
              " 'MALUKU UTARA': {'lat': 1.5709993, 'long': 127.8087693},\n",
              " 'NUSA TENGGARA BARAT': {'lat': -8.6529334, 'long': 117.3616476},\n",
              " 'NUSA TENGGARA TIMUR': {'lat': -8.6573819, 'long': 121.07937050000001},\n",
              " 'PAPUA': {'lat': -4.269928, 'long': 138.0803529},\n",
              " 'PAPUA BARAT': {'lat': -1.3361154, 'long': 133.1747162},\n",
              " 'RIAU': {'lat': 0.2933469, 'long': 101.70682940000002},\n",
              " 'SULAWESI BARAT': {'lat': -2.8441370999999998, 'long': 119.23207839999999},\n",
              " 'SULAWESI SELATAN': {'lat': -3.6687993999999997, 'long': 119.9740534},\n",
              " 'SULAWESI TENGAH': {'lat': -1.4300254, 'long': 121.4456179},\n",
              " 'SULAWESI TENGGARA': {'lat': -4.144909999999999, 'long': 122.174605},\n",
              " 'SULAWESI UTARA': {'lat': 0.6246932, 'long': 123.97500179999999},\n",
              " 'SUMATERA BARAT': {'lat': -0.7399397, 'long': 100.80000509999999},\n",
              " 'SUMATERA SELATAN': {'lat': -3.3194373999999995, 'long': 103.914399},\n",
              " 'SUMATERA UTARA': {'lat': 2.1153547, 'long': 99.5450974}}"
            ]
          },
          "metadata": {
            "tags": []
          },
          "execution_count": 14
        }
      ]
    },
    {
      "cell_type": "code",
      "metadata": {
        "colab": {
          "base_uri": "https://localhost:8080/",
          "height": 197
        },
        "id": "M6afGN0i9Yaf",
        "outputId": "cf1e62e8-d221-4e87-d982-6a8e5255e9a7"
      },
      "source": [
        "df_prov = pd.read_csv(PROV_INPUT_PATH)\n",
        "df_prov['lat'] = np.nan\n",
        "df_prov['long'] = np.nan\n",
        "\n",
        "df_prov.head()"
      ],
      "execution_count": null,
      "outputs": [
        {
          "output_type": "execute_result",
          "data": {
            "text/html": [
              "<div>\n",
              "<style scoped>\n",
              "    .dataframe tbody tr th:only-of-type {\n",
              "        vertical-align: middle;\n",
              "    }\n",
              "\n",
              "    .dataframe tbody tr th {\n",
              "        vertical-align: top;\n",
              "    }\n",
              "\n",
              "    .dataframe thead th {\n",
              "        text-align: right;\n",
              "    }\n",
              "</style>\n",
              "<table border=\"1\" class=\"dataframe\">\n",
              "  <thead>\n",
              "    <tr style=\"text-align: right;\">\n",
              "      <th></th>\n",
              "      <th>id</th>\n",
              "      <th>name</th>\n",
              "      <th>lat</th>\n",
              "      <th>long</th>\n",
              "    </tr>\n",
              "  </thead>\n",
              "  <tbody>\n",
              "    <tr>\n",
              "      <th>0</th>\n",
              "      <td>11</td>\n",
              "      <td>ACEH</td>\n",
              "      <td>NaN</td>\n",
              "      <td>NaN</td>\n",
              "    </tr>\n",
              "    <tr>\n",
              "      <th>1</th>\n",
              "      <td>12</td>\n",
              "      <td>SUMATERA UTARA</td>\n",
              "      <td>NaN</td>\n",
              "      <td>NaN</td>\n",
              "    </tr>\n",
              "    <tr>\n",
              "      <th>2</th>\n",
              "      <td>13</td>\n",
              "      <td>SUMATERA BARAT</td>\n",
              "      <td>NaN</td>\n",
              "      <td>NaN</td>\n",
              "    </tr>\n",
              "    <tr>\n",
              "      <th>3</th>\n",
              "      <td>14</td>\n",
              "      <td>RIAU</td>\n",
              "      <td>NaN</td>\n",
              "      <td>NaN</td>\n",
              "    </tr>\n",
              "    <tr>\n",
              "      <th>4</th>\n",
              "      <td>15</td>\n",
              "      <td>JAMBI</td>\n",
              "      <td>NaN</td>\n",
              "      <td>NaN</td>\n",
              "    </tr>\n",
              "  </tbody>\n",
              "</table>\n",
              "</div>"
            ],
            "text/plain": [
              "   id            name  lat  long\n",
              "0  11            ACEH  NaN   NaN\n",
              "1  12  SUMATERA UTARA  NaN   NaN\n",
              "2  13  SUMATERA BARAT  NaN   NaN\n",
              "3  14            RIAU  NaN   NaN\n",
              "4  15           JAMBI  NaN   NaN"
            ]
          },
          "metadata": {
            "tags": []
          },
          "execution_count": 15
        }
      ]
    },
    {
      "cell_type": "code",
      "metadata": {
        "colab": {
          "base_uri": "https://localhost:8080/",
          "height": 1000
        },
        "id": "-WJxSqlE_RGn",
        "outputId": "db158619-2488-49d8-db84-a80e31d45e43"
      },
      "source": [
        "for index, row in df_prov.iterrows():\n",
        "  if row['name'] in dict_data:\n",
        "    df_prov.loc[index, 'lat'] = dict_data[row['name']]['lat']\n",
        "    df_prov.loc[index, 'long'] = dict_data[row['name']]['long']\n",
        "\n",
        "df_prov"
      ],
      "execution_count": null,
      "outputs": [
        {
          "output_type": "execute_result",
          "data": {
            "text/html": [
              "<div>\n",
              "<style scoped>\n",
              "    .dataframe tbody tr th:only-of-type {\n",
              "        vertical-align: middle;\n",
              "    }\n",
              "\n",
              "    .dataframe tbody tr th {\n",
              "        vertical-align: top;\n",
              "    }\n",
              "\n",
              "    .dataframe thead th {\n",
              "        text-align: right;\n",
              "    }\n",
              "</style>\n",
              "<table border=\"1\" class=\"dataframe\">\n",
              "  <thead>\n",
              "    <tr style=\"text-align: right;\">\n",
              "      <th></th>\n",
              "      <th>id</th>\n",
              "      <th>name</th>\n",
              "      <th>lat</th>\n",
              "      <th>long</th>\n",
              "    </tr>\n",
              "  </thead>\n",
              "  <tbody>\n",
              "    <tr>\n",
              "      <th>0</th>\n",
              "      <td>11</td>\n",
              "      <td>ACEH</td>\n",
              "      <td>4.695135</td>\n",
              "      <td>96.749399</td>\n",
              "    </tr>\n",
              "    <tr>\n",
              "      <th>1</th>\n",
              "      <td>12</td>\n",
              "      <td>SUMATERA UTARA</td>\n",
              "      <td>2.115355</td>\n",
              "      <td>99.545097</td>\n",
              "    </tr>\n",
              "    <tr>\n",
              "      <th>2</th>\n",
              "      <td>13</td>\n",
              "      <td>SUMATERA BARAT</td>\n",
              "      <td>-0.739940</td>\n",
              "      <td>100.800005</td>\n",
              "    </tr>\n",
              "    <tr>\n",
              "      <th>3</th>\n",
              "      <td>14</td>\n",
              "      <td>RIAU</td>\n",
              "      <td>0.293347</td>\n",
              "      <td>101.706829</td>\n",
              "    </tr>\n",
              "    <tr>\n",
              "      <th>4</th>\n",
              "      <td>15</td>\n",
              "      <td>JAMBI</td>\n",
              "      <td>-1.485183</td>\n",
              "      <td>102.438058</td>\n",
              "    </tr>\n",
              "    <tr>\n",
              "      <th>5</th>\n",
              "      <td>16</td>\n",
              "      <td>SUMATERA SELATAN</td>\n",
              "      <td>-3.319437</td>\n",
              "      <td>103.914399</td>\n",
              "    </tr>\n",
              "    <tr>\n",
              "      <th>6</th>\n",
              "      <td>17</td>\n",
              "      <td>BENGKULU</td>\n",
              "      <td>-3.577847</td>\n",
              "      <td>102.346388</td>\n",
              "    </tr>\n",
              "    <tr>\n",
              "      <th>7</th>\n",
              "      <td>18</td>\n",
              "      <td>LAMPUNG</td>\n",
              "      <td>-4.558585</td>\n",
              "      <td>105.406808</td>\n",
              "    </tr>\n",
              "    <tr>\n",
              "      <th>8</th>\n",
              "      <td>19</td>\n",
              "      <td>KEPULAUAN BANGKA BELITUNG</td>\n",
              "      <td>-2.741051</td>\n",
              "      <td>106.440587</td>\n",
              "    </tr>\n",
              "    <tr>\n",
              "      <th>9</th>\n",
              "      <td>21</td>\n",
              "      <td>KEPULAUAN RIAU</td>\n",
              "      <td>3.945651</td>\n",
              "      <td>108.142867</td>\n",
              "    </tr>\n",
              "    <tr>\n",
              "      <th>10</th>\n",
              "      <td>31</td>\n",
              "      <td>DKI JAKARTA</td>\n",
              "      <td>-6.211544</td>\n",
              "      <td>106.845172</td>\n",
              "    </tr>\n",
              "    <tr>\n",
              "      <th>11</th>\n",
              "      <td>32</td>\n",
              "      <td>JAWA BARAT</td>\n",
              "      <td>-7.090911</td>\n",
              "      <td>107.668887</td>\n",
              "    </tr>\n",
              "    <tr>\n",
              "      <th>12</th>\n",
              "      <td>33</td>\n",
              "      <td>JAWA TENGAH</td>\n",
              "      <td>-7.150975</td>\n",
              "      <td>110.140259</td>\n",
              "    </tr>\n",
              "    <tr>\n",
              "      <th>13</th>\n",
              "      <td>34</td>\n",
              "      <td>DI YOGYAKARTA</td>\n",
              "      <td>-7.875385</td>\n",
              "      <td>110.426209</td>\n",
              "    </tr>\n",
              "    <tr>\n",
              "      <th>14</th>\n",
              "      <td>35</td>\n",
              "      <td>JAWA TIMUR</td>\n",
              "      <td>-7.536064</td>\n",
              "      <td>112.238402</td>\n",
              "    </tr>\n",
              "    <tr>\n",
              "      <th>15</th>\n",
              "      <td>36</td>\n",
              "      <td>BANTEN</td>\n",
              "      <td>-6.405817</td>\n",
              "      <td>106.064018</td>\n",
              "    </tr>\n",
              "    <tr>\n",
              "      <th>16</th>\n",
              "      <td>51</td>\n",
              "      <td>BALI</td>\n",
              "      <td>-8.409518</td>\n",
              "      <td>115.188916</td>\n",
              "    </tr>\n",
              "    <tr>\n",
              "      <th>17</th>\n",
              "      <td>52</td>\n",
              "      <td>NUSA TENGGARA BARAT</td>\n",
              "      <td>-8.652933</td>\n",
              "      <td>117.361648</td>\n",
              "    </tr>\n",
              "    <tr>\n",
              "      <th>18</th>\n",
              "      <td>53</td>\n",
              "      <td>NUSA TENGGARA TIMUR</td>\n",
              "      <td>-8.657382</td>\n",
              "      <td>121.079371</td>\n",
              "    </tr>\n",
              "    <tr>\n",
              "      <th>19</th>\n",
              "      <td>61</td>\n",
              "      <td>KALIMANTAN BARAT</td>\n",
              "      <td>-0.278781</td>\n",
              "      <td>111.475285</td>\n",
              "    </tr>\n",
              "    <tr>\n",
              "      <th>20</th>\n",
              "      <td>62</td>\n",
              "      <td>KALIMANTAN TENGAH</td>\n",
              "      <td>-1.681488</td>\n",
              "      <td>113.382354</td>\n",
              "    </tr>\n",
              "    <tr>\n",
              "      <th>21</th>\n",
              "      <td>63</td>\n",
              "      <td>KALIMANTAN SELATAN</td>\n",
              "      <td>-3.092642</td>\n",
              "      <td>115.283758</td>\n",
              "    </tr>\n",
              "    <tr>\n",
              "      <th>22</th>\n",
              "      <td>64</td>\n",
              "      <td>KALIMANTAN TIMUR</td>\n",
              "      <td>1.640630</td>\n",
              "      <td>116.419389</td>\n",
              "    </tr>\n",
              "    <tr>\n",
              "      <th>23</th>\n",
              "      <td>65</td>\n",
              "      <td>KALIMANTAN UTARA</td>\n",
              "      <td>NaN</td>\n",
              "      <td>NaN</td>\n",
              "    </tr>\n",
              "    <tr>\n",
              "      <th>24</th>\n",
              "      <td>71</td>\n",
              "      <td>SULAWESI UTARA</td>\n",
              "      <td>0.624693</td>\n",
              "      <td>123.975002</td>\n",
              "    </tr>\n",
              "    <tr>\n",
              "      <th>25</th>\n",
              "      <td>72</td>\n",
              "      <td>SULAWESI TENGAH</td>\n",
              "      <td>-1.430025</td>\n",
              "      <td>121.445618</td>\n",
              "    </tr>\n",
              "    <tr>\n",
              "      <th>26</th>\n",
              "      <td>73</td>\n",
              "      <td>SULAWESI SELATAN</td>\n",
              "      <td>-3.668799</td>\n",
              "      <td>119.974053</td>\n",
              "    </tr>\n",
              "    <tr>\n",
              "      <th>27</th>\n",
              "      <td>74</td>\n",
              "      <td>SULAWESI TENGGARA</td>\n",
              "      <td>-4.144910</td>\n",
              "      <td>122.174605</td>\n",
              "    </tr>\n",
              "    <tr>\n",
              "      <th>28</th>\n",
              "      <td>75</td>\n",
              "      <td>GORONTALO</td>\n",
              "      <td>0.699937</td>\n",
              "      <td>122.446724</td>\n",
              "    </tr>\n",
              "    <tr>\n",
              "      <th>29</th>\n",
              "      <td>76</td>\n",
              "      <td>SULAWESI BARAT</td>\n",
              "      <td>-2.844137</td>\n",
              "      <td>119.232078</td>\n",
              "    </tr>\n",
              "    <tr>\n",
              "      <th>30</th>\n",
              "      <td>81</td>\n",
              "      <td>MALUKU</td>\n",
              "      <td>-3.238462</td>\n",
              "      <td>130.145273</td>\n",
              "    </tr>\n",
              "    <tr>\n",
              "      <th>31</th>\n",
              "      <td>82</td>\n",
              "      <td>MALUKU UTARA</td>\n",
              "      <td>1.570999</td>\n",
              "      <td>127.808769</td>\n",
              "    </tr>\n",
              "    <tr>\n",
              "      <th>32</th>\n",
              "      <td>91</td>\n",
              "      <td>PAPUA BARAT</td>\n",
              "      <td>-1.336115</td>\n",
              "      <td>133.174716</td>\n",
              "    </tr>\n",
              "    <tr>\n",
              "      <th>33</th>\n",
              "      <td>94</td>\n",
              "      <td>PAPUA</td>\n",
              "      <td>-4.269928</td>\n",
              "      <td>138.080353</td>\n",
              "    </tr>\n",
              "  </tbody>\n",
              "</table>\n",
              "</div>"
            ],
            "text/plain": [
              "    id                       name       lat        long\n",
              "0   11                       ACEH  4.695135   96.749399\n",
              "1   12             SUMATERA UTARA  2.115355   99.545097\n",
              "2   13             SUMATERA BARAT -0.739940  100.800005\n",
              "3   14                       RIAU  0.293347  101.706829\n",
              "4   15                      JAMBI -1.485183  102.438058\n",
              "5   16           SUMATERA SELATAN -3.319437  103.914399\n",
              "6   17                   BENGKULU -3.577847  102.346388\n",
              "7   18                    LAMPUNG -4.558585  105.406808\n",
              "8   19  KEPULAUAN BANGKA BELITUNG -2.741051  106.440587\n",
              "9   21             KEPULAUAN RIAU  3.945651  108.142867\n",
              "10  31                DKI JAKARTA -6.211544  106.845172\n",
              "11  32                 JAWA BARAT -7.090911  107.668887\n",
              "12  33                JAWA TENGAH -7.150975  110.140259\n",
              "13  34              DI YOGYAKARTA -7.875385  110.426209\n",
              "14  35                 JAWA TIMUR -7.536064  112.238402\n",
              "15  36                     BANTEN -6.405817  106.064018\n",
              "16  51                       BALI -8.409518  115.188916\n",
              "17  52        NUSA TENGGARA BARAT -8.652933  117.361648\n",
              "18  53        NUSA TENGGARA TIMUR -8.657382  121.079371\n",
              "19  61           KALIMANTAN BARAT -0.278781  111.475285\n",
              "20  62          KALIMANTAN TENGAH -1.681488  113.382354\n",
              "21  63         KALIMANTAN SELATAN -3.092642  115.283758\n",
              "22  64           KALIMANTAN TIMUR  1.640630  116.419389\n",
              "23  65           KALIMANTAN UTARA       NaN         NaN\n",
              "24  71             SULAWESI UTARA  0.624693  123.975002\n",
              "25  72            SULAWESI TENGAH -1.430025  121.445618\n",
              "26  73           SULAWESI SELATAN -3.668799  119.974053\n",
              "27  74          SULAWESI TENGGARA -4.144910  122.174605\n",
              "28  75                  GORONTALO  0.699937  122.446724\n",
              "29  76             SULAWESI BARAT -2.844137  119.232078\n",
              "30  81                     MALUKU -3.238462  130.145273\n",
              "31  82               MALUKU UTARA  1.570999  127.808769\n",
              "32  91                PAPUA BARAT -1.336115  133.174716\n",
              "33  94                      PAPUA -4.269928  138.080353"
            ]
          },
          "metadata": {
            "tags": []
          },
          "execution_count": 18
        }
      ]
    },
    {
      "cell_type": "code",
      "metadata": {
        "id": "EXp7fxJQ_mUa"
      },
      "source": [
        "df_prov.to_csv(PROV_OUT_PATH)"
      ],
      "execution_count": null,
      "outputs": []
    },
    {
      "cell_type": "markdown",
      "metadata": {
        "id": "b2UlyWhGwegT"
      },
      "source": [
        "# Kota"
      ]
    },
    {
      "cell_type": "code",
      "metadata": {
        "colab": {
          "base_uri": "https://localhost:8080/"
        },
        "id": "yR_9ZMJjwk4E",
        "outputId": "d40cb766-37e0-4f4a-f3ba-0fe6a4ac4021"
      },
      "source": [
        "df_1 = pd.read_csv(PROV_KOTA_INPUT_1_PATH)\n",
        "df_2 = pd.read_csv(PROV_KOTA_INPUT_2_PATH)\n",
        "df_final = pd.read_csv(KOTA_INPUT_PATH)\n",
        "\n",
        "df_1.shape, df_2.shape, df_final.shape"
      ],
      "execution_count": null,
      "outputs": [
        {
          "output_type": "execute_result",
          "data": {
            "text/plain": [
              "((543, 8), (516, 3), (514, 3))"
            ]
          },
          "metadata": {
            "tags": []
          },
          "execution_count": 20
        }
      ]
    },
    {
      "cell_type": "markdown",
      "metadata": {
        "id": "FtJNRQO90PsU"
      },
      "source": [
        "> We can see that our sources have different number of data. We will use both to ensure we got the most. Better to be safe than sorry :)"
      ]
    },
    {
      "cell_type": "code",
      "metadata": {
        "id": "8woyrqCSEBFk",
        "colab": {
          "base_uri": "https://localhost:8080/"
        },
        "outputId": "56df3cb1-d505-44ff-f5f9-046418bfa235"
      },
      "source": [
        "df_1 = df_1[df_1['name'].str.contains(\"Provinsi\") == False] # takes only kota (city) data\n",
        "df_1.shape"
      ],
      "execution_count": null,
      "outputs": [
        {
          "output_type": "execute_result",
          "data": {
            "text/plain": [
              "(510, 8)"
            ]
          },
          "metadata": {
            "tags": []
          },
          "execution_count": 37
        }
      ]
    },
    {
      "cell_type": "code",
      "metadata": {
        "colab": {
          "base_uri": "https://localhost:8080/",
          "height": 197
        },
        "id": "4YkGaezfyeDq",
        "outputId": "ff57028a-4734-4602-ecbf-34ef9bd385a8"
      },
      "source": [
        "df_1.head()"
      ],
      "execution_count": null,
      "outputs": [
        {
          "output_type": "execute_result",
          "data": {
            "text/html": [
              "<div>\n",
              "<style scoped>\n",
              "    .dataframe tbody tr th:only-of-type {\n",
              "        vertical-align: middle;\n",
              "    }\n",
              "\n",
              "    .dataframe tbody tr th {\n",
              "        vertical-align: top;\n",
              "    }\n",
              "\n",
              "    .dataframe thead th {\n",
              "        text-align: right;\n",
              "    }\n",
              "</style>\n",
              "<table border=\"1\" class=\"dataframe\">\n",
              "  <thead>\n",
              "    <tr style=\"text-align: right;\">\n",
              "      <th></th>\n",
              "      <th>nid</th>\n",
              "      <th>parent_nid</th>\n",
              "      <th>name</th>\n",
              "      <th>serial</th>\n",
              "      <th>type</th>\n",
              "      <th>latitude</th>\n",
              "      <th>longitude</th>\n",
              "      <th>status</th>\n",
              "    </tr>\n",
              "  </thead>\n",
              "  <tbody>\n",
              "    <tr>\n",
              "      <th>33</th>\n",
              "      <td>562</td>\n",
              "      <td>74</td>\n",
              "      <td>Kota Tangerang Selatan</td>\n",
              "      <td>0</td>\n",
              "      <td>2</td>\n",
              "      <td>-6.288889</td>\n",
              "      <td>106.718056</td>\n",
              "      <td>1</td>\n",
              "    </tr>\n",
              "    <tr>\n",
              "      <th>34</th>\n",
              "      <td>821</td>\n",
              "      <td>15</td>\n",
              "      <td>Kabupaten Banyuwangi</td>\n",
              "      <td>1501</td>\n",
              "      <td>2</td>\n",
              "      <td>-8.218611</td>\n",
              "      <td>114.366944</td>\n",
              "      <td>1</td>\n",
              "    </tr>\n",
              "    <tr>\n",
              "      <th>35</th>\n",
              "      <td>823</td>\n",
              "      <td>15</td>\n",
              "      <td>Kabupaten Madiun</td>\n",
              "      <td>1502</td>\n",
              "      <td>2</td>\n",
              "      <td>-7.627753</td>\n",
              "      <td>111.505483</td>\n",
              "      <td>1</td>\n",
              "    </tr>\n",
              "    <tr>\n",
              "      <th>36</th>\n",
              "      <td>824</td>\n",
              "      <td>15</td>\n",
              "      <td>Kabupaten Ponorogo</td>\n",
              "      <td>1503</td>\n",
              "      <td>2</td>\n",
              "      <td>-7.867827</td>\n",
              "      <td>111.466003</td>\n",
              "      <td>1</td>\n",
              "    </tr>\n",
              "    <tr>\n",
              "      <th>37</th>\n",
              "      <td>825</td>\n",
              "      <td>15</td>\n",
              "      <td>Kabupaten Magetan</td>\n",
              "      <td>1504</td>\n",
              "      <td>2</td>\n",
              "      <td>-7.649341</td>\n",
              "      <td>111.338159</td>\n",
              "      <td>1</td>\n",
              "    </tr>\n",
              "  </tbody>\n",
              "</table>\n",
              "</div>"
            ],
            "text/plain": [
              "    nid  parent_nid                    name  ...  latitude   longitude  status\n",
              "33  562          74  Kota Tangerang Selatan  ... -6.288889  106.718056       1\n",
              "34  821          15    Kabupaten Banyuwangi  ... -8.218611  114.366944       1\n",
              "35  823          15        Kabupaten Madiun  ... -7.627753  111.505483       1\n",
              "36  824          15      Kabupaten Ponorogo  ... -7.867827  111.466003       1\n",
              "37  825          15       Kabupaten Magetan  ... -7.649341  111.338159       1\n",
              "\n",
              "[5 rows x 8 columns]"
            ]
          },
          "metadata": {
            "tags": []
          },
          "execution_count": 38
        }
      ]
    },
    {
      "cell_type": "code",
      "metadata": {
        "colab": {
          "base_uri": "https://localhost:8080/",
          "height": 197
        },
        "id": "UCmkxzXIygbN",
        "outputId": "0f9ffd37-7a58-4be0-a584-6c542e01d4ba"
      },
      "source": [
        "df_2.head()"
      ],
      "execution_count": null,
      "outputs": [
        {
          "output_type": "execute_result",
          "data": {
            "text/html": [
              "<div>\n",
              "<style scoped>\n",
              "    .dataframe tbody tr th:only-of-type {\n",
              "        vertical-align: middle;\n",
              "    }\n",
              "\n",
              "    .dataframe tbody tr th {\n",
              "        vertical-align: top;\n",
              "    }\n",
              "\n",
              "    .dataframe thead th {\n",
              "        text-align: right;\n",
              "    }\n",
              "</style>\n",
              "<table border=\"1\" class=\"dataframe\">\n",
              "  <thead>\n",
              "    <tr style=\"text-align: right;\">\n",
              "      <th></th>\n",
              "      <th>kabko</th>\n",
              "      <th>lat</th>\n",
              "      <th>long</th>\n",
              "    </tr>\n",
              "  </thead>\n",
              "  <tbody>\n",
              "    <tr>\n",
              "      <th>0</th>\n",
              "      <td>KAB. ACEH BARAT</td>\n",
              "      <td>4.4543</td>\n",
              "      <td>96.1527</td>\n",
              "    </tr>\n",
              "    <tr>\n",
              "      <th>1</th>\n",
              "      <td>KAB. ACEH BARAT DAYA</td>\n",
              "      <td>3.7963</td>\n",
              "      <td>97.0068</td>\n",
              "    </tr>\n",
              "    <tr>\n",
              "      <th>2</th>\n",
              "      <td>KAB. ACEH BESAR</td>\n",
              "      <td>5.4529</td>\n",
              "      <td>95.4778</td>\n",
              "    </tr>\n",
              "    <tr>\n",
              "      <th>3</th>\n",
              "      <td>KAB. ACEH JAYA</td>\n",
              "      <td>4.7874</td>\n",
              "      <td>95.6458</td>\n",
              "    </tr>\n",
              "    <tr>\n",
              "      <th>4</th>\n",
              "      <td>KAB. ACEH SELATAN</td>\n",
              "      <td>3.3115</td>\n",
              "      <td>97.3517</td>\n",
              "    </tr>\n",
              "  </tbody>\n",
              "</table>\n",
              "</div>"
            ],
            "text/plain": [
              "                  kabko     lat     long\n",
              "0       KAB. ACEH BARAT  4.4543  96.1527\n",
              "1  KAB. ACEH BARAT DAYA  3.7963  97.0068\n",
              "2       KAB. ACEH BESAR  5.4529  95.4778\n",
              "3        KAB. ACEH JAYA  4.7874  95.6458\n",
              "4     KAB. ACEH SELATAN  3.3115  97.3517"
            ]
          },
          "metadata": {
            "tags": []
          },
          "execution_count": 18
        }
      ]
    },
    {
      "cell_type": "code",
      "metadata": {
        "colab": {
          "base_uri": "https://localhost:8080/",
          "height": 197
        },
        "id": "RTVZQm96zXDb",
        "outputId": "9dc2f29a-f033-4935-cfb4-766c25721f58"
      },
      "source": [
        "df_final.head()"
      ],
      "execution_count": null,
      "outputs": [
        {
          "output_type": "execute_result",
          "data": {
            "text/html": [
              "<div>\n",
              "<style scoped>\n",
              "    .dataframe tbody tr th:only-of-type {\n",
              "        vertical-align: middle;\n",
              "    }\n",
              "\n",
              "    .dataframe tbody tr th {\n",
              "        vertical-align: top;\n",
              "    }\n",
              "\n",
              "    .dataframe thead th {\n",
              "        text-align: right;\n",
              "    }\n",
              "</style>\n",
              "<table border=\"1\" class=\"dataframe\">\n",
              "  <thead>\n",
              "    <tr style=\"text-align: right;\">\n",
              "      <th></th>\n",
              "      <th>id</th>\n",
              "      <th>foreign</th>\n",
              "      <th>name</th>\n",
              "    </tr>\n",
              "  </thead>\n",
              "  <tbody>\n",
              "    <tr>\n",
              "      <th>0</th>\n",
              "      <td>1101</td>\n",
              "      <td>11</td>\n",
              "      <td>KABUPATEN SIMEULUE</td>\n",
              "    </tr>\n",
              "    <tr>\n",
              "      <th>1</th>\n",
              "      <td>1102</td>\n",
              "      <td>11</td>\n",
              "      <td>KABUPATEN ACEH SINGKIL</td>\n",
              "    </tr>\n",
              "    <tr>\n",
              "      <th>2</th>\n",
              "      <td>1103</td>\n",
              "      <td>11</td>\n",
              "      <td>KABUPATEN ACEH SELATAN</td>\n",
              "    </tr>\n",
              "    <tr>\n",
              "      <th>3</th>\n",
              "      <td>1104</td>\n",
              "      <td>11</td>\n",
              "      <td>KABUPATEN ACEH TENGGARA</td>\n",
              "    </tr>\n",
              "    <tr>\n",
              "      <th>4</th>\n",
              "      <td>1105</td>\n",
              "      <td>11</td>\n",
              "      <td>KABUPATEN ACEH TIMUR</td>\n",
              "    </tr>\n",
              "  </tbody>\n",
              "</table>\n",
              "</div>"
            ],
            "text/plain": [
              "     id  foreign                     name\n",
              "0  1101       11       KABUPATEN SIMEULUE\n",
              "1  1102       11   KABUPATEN ACEH SINGKIL\n",
              "2  1103       11   KABUPATEN ACEH SELATAN\n",
              "3  1104       11  KABUPATEN ACEH TENGGARA\n",
              "4  1105       11     KABUPATEN ACEH TIMUR"
            ]
          },
          "metadata": {
            "tags": []
          },
          "execution_count": 21
        }
      ]
    },
    {
      "cell_type": "code",
      "metadata": {
        "colab": {
          "base_uri": "https://localhost:8080/",
          "height": 197
        },
        "id": "ZmlMGyU7w-8o",
        "outputId": "d9a36032-6c27-4f6b-8834-ec5fe37063a8"
      },
      "source": [
        "df_final['lat'] = np.nan\n",
        "df_final['long'] = np.nan\n",
        "\n",
        "df_final.head()"
      ],
      "execution_count": null,
      "outputs": [
        {
          "output_type": "execute_result",
          "data": {
            "text/html": [
              "<div>\n",
              "<style scoped>\n",
              "    .dataframe tbody tr th:only-of-type {\n",
              "        vertical-align: middle;\n",
              "    }\n",
              "\n",
              "    .dataframe tbody tr th {\n",
              "        vertical-align: top;\n",
              "    }\n",
              "\n",
              "    .dataframe thead th {\n",
              "        text-align: right;\n",
              "    }\n",
              "</style>\n",
              "<table border=\"1\" class=\"dataframe\">\n",
              "  <thead>\n",
              "    <tr style=\"text-align: right;\">\n",
              "      <th></th>\n",
              "      <th>id</th>\n",
              "      <th>foreign</th>\n",
              "      <th>name</th>\n",
              "      <th>lat</th>\n",
              "      <th>long</th>\n",
              "    </tr>\n",
              "  </thead>\n",
              "  <tbody>\n",
              "    <tr>\n",
              "      <th>0</th>\n",
              "      <td>1101</td>\n",
              "      <td>11</td>\n",
              "      <td>KABUPATEN SIMEULUE</td>\n",
              "      <td>NaN</td>\n",
              "      <td>NaN</td>\n",
              "    </tr>\n",
              "    <tr>\n",
              "      <th>1</th>\n",
              "      <td>1102</td>\n",
              "      <td>11</td>\n",
              "      <td>KABUPATEN ACEH SINGKIL</td>\n",
              "      <td>NaN</td>\n",
              "      <td>NaN</td>\n",
              "    </tr>\n",
              "    <tr>\n",
              "      <th>2</th>\n",
              "      <td>1103</td>\n",
              "      <td>11</td>\n",
              "      <td>KABUPATEN ACEH SELATAN</td>\n",
              "      <td>NaN</td>\n",
              "      <td>NaN</td>\n",
              "    </tr>\n",
              "    <tr>\n",
              "      <th>3</th>\n",
              "      <td>1104</td>\n",
              "      <td>11</td>\n",
              "      <td>KABUPATEN ACEH TENGGARA</td>\n",
              "      <td>NaN</td>\n",
              "      <td>NaN</td>\n",
              "    </tr>\n",
              "    <tr>\n",
              "      <th>4</th>\n",
              "      <td>1105</td>\n",
              "      <td>11</td>\n",
              "      <td>KABUPATEN ACEH TIMUR</td>\n",
              "      <td>NaN</td>\n",
              "      <td>NaN</td>\n",
              "    </tr>\n",
              "  </tbody>\n",
              "</table>\n",
              "</div>"
            ],
            "text/plain": [
              "     id  foreign                     name  lat  long\n",
              "0  1101       11       KABUPATEN SIMEULUE  NaN   NaN\n",
              "1  1102       11   KABUPATEN ACEH SINGKIL  NaN   NaN\n",
              "2  1103       11   KABUPATEN ACEH SELATAN  NaN   NaN\n",
              "3  1104       11  KABUPATEN ACEH TENGGARA  NaN   NaN\n",
              "4  1105       11     KABUPATEN ACEH TIMUR  NaN   NaN"
            ]
          },
          "metadata": {
            "tags": []
          },
          "execution_count": 40
        }
      ]
    },
    {
      "cell_type": "code",
      "metadata": {
        "id": "PrUt9o_m1pn5"
      },
      "source": [
        "q = ['KABUPATEN', 'KOTA']\n",
        "count = 0\n",
        "for index, row in df_final.iterrows():\n",
        "  kota = re.findall(r\"[\"+'|'.join(q)+r\"] (.*)\", row['name'])[0] # regex to parse the name of kota (city)\n",
        "  try:\n",
        "    select = df_1[df_1['name'].str.upper().str.contains(kota)].iloc[0]\n",
        "    df_final.loc[index, 'lat'] = select['latitude']\n",
        "    df_final.loc[index, 'long'] = select['longitude']\n",
        "  except Exception as e:\n",
        "    # if the first data doesn't have the current city, try to search it in the second one\n",
        "    try:\n",
        "      select = df_2[df_2['kabko'].str.upper().str.contains(kota)].iloc[0]\n",
        "      df_final.loc[index, 'lat'] = select['lat']\n",
        "      df_final.loc[index, 'long'] = select['long']\n",
        "    except Exception as e:\n",
        "      print(str(e))\n",
        "      pass\n",
        "df_final"
      ],
      "execution_count": null,
      "outputs": []
    },
    {
      "cell_type": "code",
      "metadata": {
        "colab": {
          "base_uri": "https://localhost:8080/"
        },
        "id": "1bTGtQU564fh",
        "outputId": "16ad3a8a-93e8-4808-96e9-644448bae27d"
      },
      "source": [
        "df_final.isna().sum()"
      ],
      "execution_count": null,
      "outputs": [
        {
          "output_type": "execute_result",
          "data": {
            "text/plain": [
              "id         0\n",
              "foreign    0\n",
              "name       0\n",
              "lat        7\n",
              "long       7\n",
              "dtype: int64"
            ]
          },
          "metadata": {
            "tags": []
          },
          "execution_count": 58
        }
      ]
    },
    {
      "cell_type": "code",
      "metadata": {
        "id": "qDiYrx3S1c5F"
      },
      "source": [
        "df_final.to_csv(, na_rep='null')"
      ],
      "execution_count": null,
      "outputs": []
    },
    {
      "cell_type": "markdown",
      "metadata": {
        "id": "QFWRj89twb5C"
      },
      "source": [
        "# Kecamatan"
      ]
    },
    {
      "cell_type": "code",
      "metadata": {
        "colab": {
          "base_uri": "https://localhost:8080/"
        },
        "id": "76fOoRcG69-S",
        "outputId": "3f049979-cc91-4c8a-b184-d8e6e3e36c27"
      },
      "source": [
        "df_kec_kel = pd.read_csv(JSON_TO_CSV_OUT_PATH)\n",
        "df_kec = pd.read_csv(KEC_INPUT_PATH)\n",
        "df_kec_kel.shape, df_kec.shape"
      ],
      "execution_count": null,
      "outputs": [
        {
          "output_type": "execute_result",
          "data": {
            "text/plain": [
              "((83322, 7), (7215, 3))"
            ]
          },
          "metadata": {
            "tags": []
          },
          "execution_count": 5
        }
      ]
    },
    {
      "cell_type": "code",
      "metadata": {
        "colab": {
          "base_uri": "https://localhost:8080/",
          "height": 197
        },
        "id": "oY8ddOQ719Ym",
        "outputId": "9f6c7a23-6a96-4744-c6ac-459402700317"
      },
      "source": [
        "df_kec.head()"
      ],
      "execution_count": null,
      "outputs": [
        {
          "output_type": "execute_result",
          "data": {
            "text/html": [
              "<div>\n",
              "<style scoped>\n",
              "    .dataframe tbody tr th:only-of-type {\n",
              "        vertical-align: middle;\n",
              "    }\n",
              "\n",
              "    .dataframe tbody tr th {\n",
              "        vertical-align: top;\n",
              "    }\n",
              "\n",
              "    .dataframe thead th {\n",
              "        text-align: right;\n",
              "    }\n",
              "</style>\n",
              "<table border=\"1\" class=\"dataframe\">\n",
              "  <thead>\n",
              "    <tr style=\"text-align: right;\">\n",
              "      <th></th>\n",
              "      <th>id</th>\n",
              "      <th>foreign</th>\n",
              "      <th>name</th>\n",
              "    </tr>\n",
              "  </thead>\n",
              "  <tbody>\n",
              "    <tr>\n",
              "      <th>0</th>\n",
              "      <td>1101010</td>\n",
              "      <td>1101</td>\n",
              "      <td>TEUPAH SELATAN</td>\n",
              "    </tr>\n",
              "    <tr>\n",
              "      <th>1</th>\n",
              "      <td>1101020</td>\n",
              "      <td>1101</td>\n",
              "      <td>SIMEULUE TIMUR</td>\n",
              "    </tr>\n",
              "    <tr>\n",
              "      <th>2</th>\n",
              "      <td>1101021</td>\n",
              "      <td>1101</td>\n",
              "      <td>TEUPAH BARAT</td>\n",
              "    </tr>\n",
              "    <tr>\n",
              "      <th>3</th>\n",
              "      <td>1101022</td>\n",
              "      <td>1101</td>\n",
              "      <td>TEUPAH TENGAH</td>\n",
              "    </tr>\n",
              "    <tr>\n",
              "      <th>4</th>\n",
              "      <td>1101030</td>\n",
              "      <td>1101</td>\n",
              "      <td>SIMEULUE TENGAH</td>\n",
              "    </tr>\n",
              "  </tbody>\n",
              "</table>\n",
              "</div>"
            ],
            "text/plain": [
              "        id  foreign             name\n",
              "0  1101010     1101   TEUPAH SELATAN\n",
              "1  1101020     1101   SIMEULUE TIMUR\n",
              "2  1101021     1101     TEUPAH BARAT\n",
              "3  1101022     1101    TEUPAH TENGAH\n",
              "4  1101030     1101  SIMEULUE TENGAH"
            ]
          },
          "metadata": {
            "tags": []
          },
          "execution_count": 19
        }
      ]
    },
    {
      "cell_type": "code",
      "metadata": {
        "colab": {
          "base_uri": "https://localhost:8080/",
          "height": 197
        },
        "id": "3COMLYnez2hG",
        "outputId": "1fb4a128-6243-46ae-dba7-0af358e6c195"
      },
      "source": [
        "df_kota = pd.read_csv(KOTA_INPUT_PATH)\n",
        "df_kota.head()"
      ],
      "execution_count": null,
      "outputs": [
        {
          "output_type": "execute_result",
          "data": {
            "text/html": [
              "<div>\n",
              "<style scoped>\n",
              "    .dataframe tbody tr th:only-of-type {\n",
              "        vertical-align: middle;\n",
              "    }\n",
              "\n",
              "    .dataframe tbody tr th {\n",
              "        vertical-align: top;\n",
              "    }\n",
              "\n",
              "    .dataframe thead th {\n",
              "        text-align: right;\n",
              "    }\n",
              "</style>\n",
              "<table border=\"1\" class=\"dataframe\">\n",
              "  <thead>\n",
              "    <tr style=\"text-align: right;\">\n",
              "      <th></th>\n",
              "      <th>id</th>\n",
              "      <th>foreign</th>\n",
              "      <th>name</th>\n",
              "    </tr>\n",
              "  </thead>\n",
              "  <tbody>\n",
              "    <tr>\n",
              "      <th>0</th>\n",
              "      <td>1101</td>\n",
              "      <td>11</td>\n",
              "      <td>KABUPATEN SIMEULUE</td>\n",
              "    </tr>\n",
              "    <tr>\n",
              "      <th>1</th>\n",
              "      <td>1102</td>\n",
              "      <td>11</td>\n",
              "      <td>KABUPATEN ACEH SINGKIL</td>\n",
              "    </tr>\n",
              "    <tr>\n",
              "      <th>2</th>\n",
              "      <td>1103</td>\n",
              "      <td>11</td>\n",
              "      <td>KABUPATEN ACEH SELATAN</td>\n",
              "    </tr>\n",
              "    <tr>\n",
              "      <th>3</th>\n",
              "      <td>1104</td>\n",
              "      <td>11</td>\n",
              "      <td>KABUPATEN ACEH TENGGARA</td>\n",
              "    </tr>\n",
              "    <tr>\n",
              "      <th>4</th>\n",
              "      <td>1105</td>\n",
              "      <td>11</td>\n",
              "      <td>KABUPATEN ACEH TIMUR</td>\n",
              "    </tr>\n",
              "  </tbody>\n",
              "</table>\n",
              "</div>"
            ],
            "text/plain": [
              "     id  foreign                     name\n",
              "0  1101       11       KABUPATEN SIMEULUE\n",
              "1  1102       11   KABUPATEN ACEH SINGKIL\n",
              "2  1103       11   KABUPATEN ACEH SELATAN\n",
              "3  1104       11  KABUPATEN ACEH TENGGARA\n",
              "4  1105       11     KABUPATEN ACEH TIMUR"
            ]
          },
          "metadata": {
            "tags": []
          },
          "execution_count": 15
        }
      ]
    },
    {
      "cell_type": "markdown",
      "metadata": {
        "id": "19cM7_yH1v7B"
      },
      "source": [
        "> Since there are some kecamatan (districts) that have the same name in different cities and the `json_to_csv` file contains the name of the city, it's better if we have the parent (city) name in the output dataframe."
      ]
    },
    {
      "cell_type": "code",
      "metadata": {
        "id": "uxvFvy_W0poo"
      },
      "source": [
        "def getBaseNama(row, col): # get the city name\n",
        "  q = ['KABUPATEN', 'KOTA']\n",
        "  try:\n",
        "    return re.findall(r\"[\"+'|'.join(q)+r\"] (.*)\", row[col])[0]\n",
        "  except:\n",
        "    return row[col]"
      ],
      "execution_count": null,
      "outputs": []
    },
    {
      "cell_type": "code",
      "metadata": {
        "colab": {
          "base_uri": "https://localhost:8080/",
          "height": 197
        },
        "id": "j55oz0o-3Pke",
        "outputId": "596e6850-088b-4d7a-c14a-f89cfe398b4a"
      },
      "source": [
        "df_kota.tail()"
      ],
      "execution_count": null,
      "outputs": [
        {
          "output_type": "execute_result",
          "data": {
            "text/html": [
              "<div>\n",
              "<style scoped>\n",
              "    .dataframe tbody tr th:only-of-type {\n",
              "        vertical-align: middle;\n",
              "    }\n",
              "\n",
              "    .dataframe tbody tr th {\n",
              "        vertical-align: top;\n",
              "    }\n",
              "\n",
              "    .dataframe thead th {\n",
              "        text-align: right;\n",
              "    }\n",
              "</style>\n",
              "<table border=\"1\" class=\"dataframe\">\n",
              "  <thead>\n",
              "    <tr style=\"text-align: right;\">\n",
              "      <th></th>\n",
              "      <th>id</th>\n",
              "      <th>foreign</th>\n",
              "      <th>name</th>\n",
              "      <th>basename</th>\n",
              "    </tr>\n",
              "  </thead>\n",
              "  <tbody>\n",
              "    <tr>\n",
              "      <th>509</th>\n",
              "      <td>9433</td>\n",
              "      <td>94</td>\n",
              "      <td>KABUPATEN PUNCAK</td>\n",
              "      <td>PUNCAK</td>\n",
              "    </tr>\n",
              "    <tr>\n",
              "      <th>510</th>\n",
              "      <td>9434</td>\n",
              "      <td>94</td>\n",
              "      <td>KABUPATEN DOGIYAI</td>\n",
              "      <td>DOGIYAI</td>\n",
              "    </tr>\n",
              "    <tr>\n",
              "      <th>511</th>\n",
              "      <td>9435</td>\n",
              "      <td>94</td>\n",
              "      <td>KABUPATEN INTAN JAYA</td>\n",
              "      <td>INTAN JAYA</td>\n",
              "    </tr>\n",
              "    <tr>\n",
              "      <th>512</th>\n",
              "      <td>9436</td>\n",
              "      <td>94</td>\n",
              "      <td>KABUPATEN DEIYAI</td>\n",
              "      <td>DEIYAI</td>\n",
              "    </tr>\n",
              "    <tr>\n",
              "      <th>513</th>\n",
              "      <td>9471</td>\n",
              "      <td>94</td>\n",
              "      <td>KOTA JAYAPURA</td>\n",
              "      <td>JAYAPURA</td>\n",
              "    </tr>\n",
              "  </tbody>\n",
              "</table>\n",
              "</div>"
            ],
            "text/plain": [
              "       id  foreign                  name    basename\n",
              "509  9433       94      KABUPATEN PUNCAK      PUNCAK\n",
              "510  9434       94     KABUPATEN DOGIYAI     DOGIYAI\n",
              "511  9435       94  KABUPATEN INTAN JAYA  INTAN JAYA\n",
              "512  9436       94      KABUPATEN DEIYAI      DEIYAI\n",
              "513  9471       94         KOTA JAYAPURA    JAYAPURA"
            ]
          },
          "metadata": {
            "tags": []
          },
          "execution_count": 22
        }
      ]
    },
    {
      "cell_type": "code",
      "metadata": {
        "colab": {
          "base_uri": "https://localhost:8080/",
          "height": 197
        },
        "id": "DHkXLgY92RgQ",
        "outputId": "71ce458c-d598-470f-a919-73547f978e05"
      },
      "source": [
        "def getParentName(row, col, df_parent): # get the parent name\n",
        "  return df_parent[df_parent['id'] == row['foreign']].iloc[0][col]\n",
        "df_kec['foreign_nama'] = df_kec.apply(lambda row: getParentName(row, 'basename', df_kota), axis=1)\n",
        "df_kec.head()"
      ],
      "execution_count": null,
      "outputs": [
        {
          "output_type": "execute_result",
          "data": {
            "text/html": [
              "<div>\n",
              "<style scoped>\n",
              "    .dataframe tbody tr th:only-of-type {\n",
              "        vertical-align: middle;\n",
              "    }\n",
              "\n",
              "    .dataframe tbody tr th {\n",
              "        vertical-align: top;\n",
              "    }\n",
              "\n",
              "    .dataframe thead th {\n",
              "        text-align: right;\n",
              "    }\n",
              "</style>\n",
              "<table border=\"1\" class=\"dataframe\">\n",
              "  <thead>\n",
              "    <tr style=\"text-align: right;\">\n",
              "      <th></th>\n",
              "      <th>id</th>\n",
              "      <th>foreign</th>\n",
              "      <th>name</th>\n",
              "      <th>lat</th>\n",
              "      <th>long</th>\n",
              "      <th>foreign_nama</th>\n",
              "    </tr>\n",
              "  </thead>\n",
              "  <tbody>\n",
              "    <tr>\n",
              "      <th>0</th>\n",
              "      <td>1101010</td>\n",
              "      <td>1101</td>\n",
              "      <td>TEUPAH SELATAN</td>\n",
              "      <td>2.464285</td>\n",
              "      <td>96.520430</td>\n",
              "      <td>SIMEULUE</td>\n",
              "    </tr>\n",
              "    <tr>\n",
              "      <th>1</th>\n",
              "      <td>1101020</td>\n",
              "      <td>1101</td>\n",
              "      <td>SIMEULUE TIMUR</td>\n",
              "      <td>2.640112</td>\n",
              "      <td>96.580326</td>\n",
              "      <td>SIMEULUE</td>\n",
              "    </tr>\n",
              "    <tr>\n",
              "      <th>2</th>\n",
              "      <td>1101021</td>\n",
              "      <td>1101</td>\n",
              "      <td>TEUPAH BARAT</td>\n",
              "      <td>2.554213</td>\n",
              "      <td>96.349640</td>\n",
              "      <td>SIMEULUE</td>\n",
              "    </tr>\n",
              "    <tr>\n",
              "      <th>3</th>\n",
              "      <td>1101022</td>\n",
              "      <td>1101</td>\n",
              "      <td>TEUPAH TENGAH</td>\n",
              "      <td>2.411233</td>\n",
              "      <td>96.334985</td>\n",
              "      <td>SIMEULUE</td>\n",
              "    </tr>\n",
              "    <tr>\n",
              "      <th>4</th>\n",
              "      <td>1101030</td>\n",
              "      <td>1101</td>\n",
              "      <td>SIMEULUE TENGAH</td>\n",
              "      <td>2.645959</td>\n",
              "      <td>96.090894</td>\n",
              "      <td>SIMEULUE</td>\n",
              "    </tr>\n",
              "  </tbody>\n",
              "</table>\n",
              "</div>"
            ],
            "text/plain": [
              "        id  foreign             name       lat       long foreign_nama\n",
              "0  1101010     1101   TEUPAH SELATAN  2.464285  96.520430     SIMEULUE\n",
              "1  1101020     1101   SIMEULUE TIMUR  2.640112  96.580326     SIMEULUE\n",
              "2  1101021     1101     TEUPAH BARAT  2.554213  96.349640     SIMEULUE\n",
              "3  1101022     1101    TEUPAH TENGAH  2.411233  96.334985     SIMEULUE\n",
              "4  1101030     1101  SIMEULUE TENGAH  2.645959  96.090894     SIMEULUE"
            ]
          },
          "metadata": {
            "tags": []
          },
          "execution_count": 58
        }
      ]
    },
    {
      "cell_type": "markdown",
      "metadata": {
        "id": "-roJEC-V2k7Q"
      },
      "source": [
        "> So the idea was to approximate the kecamatan (districts) data based on the mean of the kelurahan (villages) lat long. Just like what we did when parsing the lat long from boundaries."
      ]
    },
    {
      "cell_type": "code",
      "metadata": {
        "colab": {
          "base_uri": "https://localhost:8080/",
          "height": 197
        },
        "id": "4s7AqIYgw4dV",
        "outputId": "16847321-d547-46a4-df10-8cb5a3a1b17e"
      },
      "source": [
        "mean_kec = df_kec_kel.groupby(['district', 'sub_district'])[['approx_long', 'approx_lat']].mean() # get the mean of kelurahan\n",
        "mean_kec.reset_index(inplace=True)\n",
        "mean_kec.head()"
      ],
      "execution_count": null,
      "outputs": [
        {
          "output_type": "execute_result",
          "data": {
            "text/html": [
              "<div>\n",
              "<style scoped>\n",
              "    .dataframe tbody tr th:only-of-type {\n",
              "        vertical-align: middle;\n",
              "    }\n",
              "\n",
              "    .dataframe tbody tr th {\n",
              "        vertical-align: top;\n",
              "    }\n",
              "\n",
              "    .dataframe thead th {\n",
              "        text-align: right;\n",
              "    }\n",
              "</style>\n",
              "<table border=\"1\" class=\"dataframe\">\n",
              "  <thead>\n",
              "    <tr style=\"text-align: right;\">\n",
              "      <th></th>\n",
              "      <th>district</th>\n",
              "      <th>sub_district</th>\n",
              "      <th>approx_long</th>\n",
              "      <th>approx_lat</th>\n",
              "    </tr>\n",
              "  </thead>\n",
              "  <tbody>\n",
              "    <tr>\n",
              "      <th>0</th>\n",
              "      <td>ACEH BARAT</td>\n",
              "      <td>ARONGAN LAMBALEK</td>\n",
              "      <td>95.953161</td>\n",
              "      <td>4.328265</td>\n",
              "    </tr>\n",
              "    <tr>\n",
              "      <th>1</th>\n",
              "      <td>ACEH BARAT</td>\n",
              "      <td>BUBON</td>\n",
              "      <td>96.116779</td>\n",
              "      <td>4.304903</td>\n",
              "    </tr>\n",
              "    <tr>\n",
              "      <th>2</th>\n",
              "      <td>ACEH BARAT</td>\n",
              "      <td>JOHAN PAHWALAN</td>\n",
              "      <td>96.125292</td>\n",
              "      <td>4.159176</td>\n",
              "    </tr>\n",
              "    <tr>\n",
              "      <th>3</th>\n",
              "      <td>ACEH BARAT</td>\n",
              "      <td>KAWAY XVI</td>\n",
              "      <td>96.194050</td>\n",
              "      <td>4.266901</td>\n",
              "    </tr>\n",
              "    <tr>\n",
              "      <th>4</th>\n",
              "      <td>ACEH BARAT</td>\n",
              "      <td>MEUREUBO</td>\n",
              "      <td>96.185277</td>\n",
              "      <td>4.164602</td>\n",
              "    </tr>\n",
              "  </tbody>\n",
              "</table>\n",
              "</div>"
            ],
            "text/plain": [
              "     district      sub_district  approx_long  approx_lat\n",
              "0  ACEH BARAT  ARONGAN LAMBALEK    95.953161    4.328265\n",
              "1  ACEH BARAT             BUBON    96.116779    4.304903\n",
              "2  ACEH BARAT    JOHAN PAHWALAN    96.125292    4.159176\n",
              "3  ACEH BARAT         KAWAY XVI    96.194050    4.266901\n",
              "4  ACEH BARAT          MEUREUBO    96.185277    4.164602"
            ]
          },
          "metadata": {
            "tags": []
          },
          "execution_count": 12
        }
      ]
    },
    {
      "cell_type": "code",
      "metadata": {
        "colab": {
          "base_uri": "https://localhost:8080/",
          "height": 767
        },
        "id": "O76a0AKawyNA",
        "outputId": "1e7a7e6f-51cb-45a0-d649-50369441ed11"
      },
      "source": [
        "df_kec['lat'] = np.nan\n",
        "df_kec['long'] = np.nan\n",
        "df_kec[df_kec['foreign_nama'] == 'JAYAPURA'] # take little look inside the dataframe"
      ],
      "execution_count": null,
      "outputs": [
        {
          "output_type": "execute_result",
          "data": {
            "text/html": [
              "<div>\n",
              "<style scoped>\n",
              "    .dataframe tbody tr th:only-of-type {\n",
              "        vertical-align: middle;\n",
              "    }\n",
              "\n",
              "    .dataframe tbody tr th {\n",
              "        vertical-align: top;\n",
              "    }\n",
              "\n",
              "    .dataframe thead th {\n",
              "        text-align: right;\n",
              "    }\n",
              "</style>\n",
              "<table border=\"1\" class=\"dataframe\">\n",
              "  <thead>\n",
              "    <tr style=\"text-align: right;\">\n",
              "      <th></th>\n",
              "      <th>id</th>\n",
              "      <th>foreign</th>\n",
              "      <th>name</th>\n",
              "      <th>foreign_nama</th>\n",
              "      <th>lat</th>\n",
              "      <th>long</th>\n",
              "    </tr>\n",
              "  </thead>\n",
              "  <tbody>\n",
              "    <tr>\n",
              "      <th>6707</th>\n",
              "      <td>9403080</td>\n",
              "      <td>9403</td>\n",
              "      <td>KAUREH</td>\n",
              "      <td>JAYAPURA</td>\n",
              "      <td>NaN</td>\n",
              "      <td>NaN</td>\n",
              "    </tr>\n",
              "    <tr>\n",
              "      <th>6708</th>\n",
              "      <td>9403081</td>\n",
              "      <td>9403</td>\n",
              "      <td>AIRU</td>\n",
              "      <td>JAYAPURA</td>\n",
              "      <td>NaN</td>\n",
              "      <td>NaN</td>\n",
              "    </tr>\n",
              "    <tr>\n",
              "      <th>6709</th>\n",
              "      <td>9403082</td>\n",
              "      <td>9403</td>\n",
              "      <td>YAPSI</td>\n",
              "      <td>JAYAPURA</td>\n",
              "      <td>NaN</td>\n",
              "      <td>NaN</td>\n",
              "    </tr>\n",
              "    <tr>\n",
              "      <th>6710</th>\n",
              "      <td>9403140</td>\n",
              "      <td>9403</td>\n",
              "      <td>KEMTUK</td>\n",
              "      <td>JAYAPURA</td>\n",
              "      <td>NaN</td>\n",
              "      <td>NaN</td>\n",
              "    </tr>\n",
              "    <tr>\n",
              "      <th>6711</th>\n",
              "      <td>9403150</td>\n",
              "      <td>9403</td>\n",
              "      <td>KEMTUK GRESI</td>\n",
              "      <td>JAYAPURA</td>\n",
              "      <td>NaN</td>\n",
              "      <td>NaN</td>\n",
              "    </tr>\n",
              "    <tr>\n",
              "      <th>6712</th>\n",
              "      <td>9403151</td>\n",
              "      <td>9403</td>\n",
              "      <td>GRESI SELATAN</td>\n",
              "      <td>JAYAPURA</td>\n",
              "      <td>NaN</td>\n",
              "      <td>NaN</td>\n",
              "    </tr>\n",
              "    <tr>\n",
              "      <th>6713</th>\n",
              "      <td>9403160</td>\n",
              "      <td>9403</td>\n",
              "      <td>NIMBORAN</td>\n",
              "      <td>JAYAPURA</td>\n",
              "      <td>NaN</td>\n",
              "      <td>NaN</td>\n",
              "    </tr>\n",
              "    <tr>\n",
              "      <th>6714</th>\n",
              "      <td>9403161</td>\n",
              "      <td>9403</td>\n",
              "      <td>NIMBORAN TIMUR / NAMBLONG</td>\n",
              "      <td>JAYAPURA</td>\n",
              "      <td>NaN</td>\n",
              "      <td>NaN</td>\n",
              "    </tr>\n",
              "    <tr>\n",
              "      <th>6715</th>\n",
              "      <td>9403170</td>\n",
              "      <td>9403</td>\n",
              "      <td>NIMBOKRANG</td>\n",
              "      <td>JAYAPURA</td>\n",
              "      <td>NaN</td>\n",
              "      <td>NaN</td>\n",
              "    </tr>\n",
              "    <tr>\n",
              "      <th>6716</th>\n",
              "      <td>9403180</td>\n",
              "      <td>9403</td>\n",
              "      <td>UNURUM GUAY</td>\n",
              "      <td>JAYAPURA</td>\n",
              "      <td>NaN</td>\n",
              "      <td>NaN</td>\n",
              "    </tr>\n",
              "    <tr>\n",
              "      <th>6717</th>\n",
              "      <td>9403200</td>\n",
              "      <td>9403</td>\n",
              "      <td>DEMTA</td>\n",
              "      <td>JAYAPURA</td>\n",
              "      <td>NaN</td>\n",
              "      <td>NaN</td>\n",
              "    </tr>\n",
              "    <tr>\n",
              "      <th>6718</th>\n",
              "      <td>9403201</td>\n",
              "      <td>9403</td>\n",
              "      <td>YOKARI</td>\n",
              "      <td>JAYAPURA</td>\n",
              "      <td>NaN</td>\n",
              "      <td>NaN</td>\n",
              "    </tr>\n",
              "    <tr>\n",
              "      <th>6719</th>\n",
              "      <td>9403210</td>\n",
              "      <td>9403</td>\n",
              "      <td>DEPAPRE</td>\n",
              "      <td>JAYAPURA</td>\n",
              "      <td>NaN</td>\n",
              "      <td>NaN</td>\n",
              "    </tr>\n",
              "    <tr>\n",
              "      <th>6720</th>\n",
              "      <td>9403211</td>\n",
              "      <td>9403</td>\n",
              "      <td>RAVENIRARA</td>\n",
              "      <td>JAYAPURA</td>\n",
              "      <td>NaN</td>\n",
              "      <td>NaN</td>\n",
              "    </tr>\n",
              "    <tr>\n",
              "      <th>6721</th>\n",
              "      <td>9403220</td>\n",
              "      <td>9403</td>\n",
              "      <td>SENTANI BARAT</td>\n",
              "      <td>JAYAPURA</td>\n",
              "      <td>NaN</td>\n",
              "      <td>NaN</td>\n",
              "    </tr>\n",
              "    <tr>\n",
              "      <th>6722</th>\n",
              "      <td>9403221</td>\n",
              "      <td>9403</td>\n",
              "      <td>WAIBU</td>\n",
              "      <td>JAYAPURA</td>\n",
              "      <td>NaN</td>\n",
              "      <td>NaN</td>\n",
              "    </tr>\n",
              "    <tr>\n",
              "      <th>6723</th>\n",
              "      <td>9403230</td>\n",
              "      <td>9403</td>\n",
              "      <td>SENTANI</td>\n",
              "      <td>JAYAPURA</td>\n",
              "      <td>NaN</td>\n",
              "      <td>NaN</td>\n",
              "    </tr>\n",
              "    <tr>\n",
              "      <th>6724</th>\n",
              "      <td>9403231</td>\n",
              "      <td>9403</td>\n",
              "      <td>EBUNGFAU</td>\n",
              "      <td>JAYAPURA</td>\n",
              "      <td>NaN</td>\n",
              "      <td>NaN</td>\n",
              "    </tr>\n",
              "    <tr>\n",
              "      <th>6725</th>\n",
              "      <td>9403240</td>\n",
              "      <td>9403</td>\n",
              "      <td>SENTANI TIMUR</td>\n",
              "      <td>JAYAPURA</td>\n",
              "      <td>NaN</td>\n",
              "      <td>NaN</td>\n",
              "    </tr>\n",
              "    <tr>\n",
              "      <th>7210</th>\n",
              "      <td>9471010</td>\n",
              "      <td>9471</td>\n",
              "      <td>MUARA TAMI</td>\n",
              "      <td>JAYAPURA</td>\n",
              "      <td>NaN</td>\n",
              "      <td>NaN</td>\n",
              "    </tr>\n",
              "    <tr>\n",
              "      <th>7211</th>\n",
              "      <td>9471020</td>\n",
              "      <td>9471</td>\n",
              "      <td>ABEPURA</td>\n",
              "      <td>JAYAPURA</td>\n",
              "      <td>NaN</td>\n",
              "      <td>NaN</td>\n",
              "    </tr>\n",
              "    <tr>\n",
              "      <th>7212</th>\n",
              "      <td>9471021</td>\n",
              "      <td>9471</td>\n",
              "      <td>HERAM</td>\n",
              "      <td>JAYAPURA</td>\n",
              "      <td>NaN</td>\n",
              "      <td>NaN</td>\n",
              "    </tr>\n",
              "    <tr>\n",
              "      <th>7213</th>\n",
              "      <td>9471030</td>\n",
              "      <td>9471</td>\n",
              "      <td>JAYAPURA SELATAN</td>\n",
              "      <td>JAYAPURA</td>\n",
              "      <td>NaN</td>\n",
              "      <td>NaN</td>\n",
              "    </tr>\n",
              "    <tr>\n",
              "      <th>7214</th>\n",
              "      <td>9471040</td>\n",
              "      <td>9471</td>\n",
              "      <td>JAYAPURA UTARA</td>\n",
              "      <td>JAYAPURA</td>\n",
              "      <td>NaN</td>\n",
              "      <td>NaN</td>\n",
              "    </tr>\n",
              "  </tbody>\n",
              "</table>\n",
              "</div>"
            ],
            "text/plain": [
              "           id  foreign                       name foreign_nama  lat  long\n",
              "6707  9403080     9403                     KAUREH     JAYAPURA  NaN   NaN\n",
              "6708  9403081     9403                       AIRU     JAYAPURA  NaN   NaN\n",
              "6709  9403082     9403                      YAPSI     JAYAPURA  NaN   NaN\n",
              "6710  9403140     9403                     KEMTUK     JAYAPURA  NaN   NaN\n",
              "6711  9403150     9403               KEMTUK GRESI     JAYAPURA  NaN   NaN\n",
              "6712  9403151     9403              GRESI SELATAN     JAYAPURA  NaN   NaN\n",
              "6713  9403160     9403                   NIMBORAN     JAYAPURA  NaN   NaN\n",
              "6714  9403161     9403  NIMBORAN TIMUR / NAMBLONG     JAYAPURA  NaN   NaN\n",
              "6715  9403170     9403                 NIMBOKRANG     JAYAPURA  NaN   NaN\n",
              "6716  9403180     9403                UNURUM GUAY     JAYAPURA  NaN   NaN\n",
              "6717  9403200     9403                      DEMTA     JAYAPURA  NaN   NaN\n",
              "6718  9403201     9403                     YOKARI     JAYAPURA  NaN   NaN\n",
              "6719  9403210     9403                    DEPAPRE     JAYAPURA  NaN   NaN\n",
              "6720  9403211     9403                 RAVENIRARA     JAYAPURA  NaN   NaN\n",
              "6721  9403220     9403              SENTANI BARAT     JAYAPURA  NaN   NaN\n",
              "6722  9403221     9403                      WAIBU     JAYAPURA  NaN   NaN\n",
              "6723  9403230     9403                    SENTANI     JAYAPURA  NaN   NaN\n",
              "6724  9403231     9403                   EBUNGFAU     JAYAPURA  NaN   NaN\n",
              "6725  9403240     9403              SENTANI TIMUR     JAYAPURA  NaN   NaN\n",
              "7210  9471010     9471                 MUARA TAMI     JAYAPURA  NaN   NaN\n",
              "7211  9471020     9471                    ABEPURA     JAYAPURA  NaN   NaN\n",
              "7212  9471021     9471                      HERAM     JAYAPURA  NaN   NaN\n",
              "7213  9471030     9471           JAYAPURA SELATAN     JAYAPURA  NaN   NaN\n",
              "7214  9471040     9471             JAYAPURA UTARA     JAYAPURA  NaN   NaN"
            ]
          },
          "metadata": {
            "tags": []
          },
          "execution_count": 40
        }
      ]
    },
    {
      "cell_type": "code",
      "metadata": {
        "id": "NmmyQgghxVDj"
      },
      "source": [
        "# some district names contain 'Kota' or 'Kabupaten' string inside it. ex: Kota Jayapura\n",
        "# to ensure the uniformity, we parse the base name instead\n",
        "mean_kec['district'] = mean_kec.apply(lambda row: getBaseNama(row, 'district'), axis=1)\n",
        "mean_kec[(mean_kec['district'] == 'JAYAPURA') & (mean_kec['sub_district'] == 'AIRU')]"
      ],
      "execution_count": null,
      "outputs": []
    },
    {
      "cell_type": "code",
      "metadata": {
        "colab": {
          "base_uri": "https://localhost:8080/",
          "height": 197
        },
        "id": "jSowasUU3Vmj",
        "outputId": "71e108c2-19d7-4a5f-e83a-458080e8509a"
      },
      "source": [
        "# get the lat long data\n",
        "for index, row in df_kec.iterrows():\n",
        "  try:\n",
        "    select = mean_kec[(mean_kec['district'] == row['foreign_nama']) & (mean_kec['sub_district'] == row['name'])].iloc[0]\n",
        "    df_kec.loc[index, 'lat'] = select['approx_lat']\n",
        "    df_kec.loc[index, 'long'] = select['approx_long']\n",
        "  except:\n",
        "    pass\n",
        "\n",
        "df_kec.head()"
      ],
      "execution_count": null,
      "outputs": [
        {
          "output_type": "execute_result",
          "data": {
            "text/html": [
              "<div>\n",
              "<style scoped>\n",
              "    .dataframe tbody tr th:only-of-type {\n",
              "        vertical-align: middle;\n",
              "    }\n",
              "\n",
              "    .dataframe tbody tr th {\n",
              "        vertical-align: top;\n",
              "    }\n",
              "\n",
              "    .dataframe thead th {\n",
              "        text-align: right;\n",
              "    }\n",
              "</style>\n",
              "<table border=\"1\" class=\"dataframe\">\n",
              "  <thead>\n",
              "    <tr style=\"text-align: right;\">\n",
              "      <th></th>\n",
              "      <th>id</th>\n",
              "      <th>foreign</th>\n",
              "      <th>name</th>\n",
              "      <th>foreign_nama</th>\n",
              "      <th>lat</th>\n",
              "      <th>long</th>\n",
              "    </tr>\n",
              "  </thead>\n",
              "  <tbody>\n",
              "    <tr>\n",
              "      <th>0</th>\n",
              "      <td>1101010</td>\n",
              "      <td>1101</td>\n",
              "      <td>TEUPAH SELATAN</td>\n",
              "      <td>SIMEULUE</td>\n",
              "      <td>2.464285</td>\n",
              "      <td>96.520430</td>\n",
              "    </tr>\n",
              "    <tr>\n",
              "      <th>1</th>\n",
              "      <td>1101020</td>\n",
              "      <td>1101</td>\n",
              "      <td>SIMEULUE TIMUR</td>\n",
              "      <td>SIMEULUE</td>\n",
              "      <td>2.640112</td>\n",
              "      <td>96.580326</td>\n",
              "    </tr>\n",
              "    <tr>\n",
              "      <th>2</th>\n",
              "      <td>1101021</td>\n",
              "      <td>1101</td>\n",
              "      <td>TEUPAH BARAT</td>\n",
              "      <td>SIMEULUE</td>\n",
              "      <td>2.554213</td>\n",
              "      <td>96.349640</td>\n",
              "    </tr>\n",
              "    <tr>\n",
              "      <th>3</th>\n",
              "      <td>1101022</td>\n",
              "      <td>1101</td>\n",
              "      <td>TEUPAH TENGAH</td>\n",
              "      <td>SIMEULUE</td>\n",
              "      <td>2.411233</td>\n",
              "      <td>96.334985</td>\n",
              "    </tr>\n",
              "    <tr>\n",
              "      <th>4</th>\n",
              "      <td>1101030</td>\n",
              "      <td>1101</td>\n",
              "      <td>SIMEULUE TENGAH</td>\n",
              "      <td>SIMEULUE</td>\n",
              "      <td>2.645959</td>\n",
              "      <td>96.090894</td>\n",
              "    </tr>\n",
              "  </tbody>\n",
              "</table>\n",
              "</div>"
            ],
            "text/plain": [
              "        id  foreign             name foreign_nama       lat       long\n",
              "0  1101010     1101   TEUPAH SELATAN     SIMEULUE  2.464285  96.520430\n",
              "1  1101020     1101   SIMEULUE TIMUR     SIMEULUE  2.640112  96.580326\n",
              "2  1101021     1101     TEUPAH BARAT     SIMEULUE  2.554213  96.349640\n",
              "3  1101022     1101    TEUPAH TENGAH     SIMEULUE  2.411233  96.334985\n",
              "4  1101030     1101  SIMEULUE TENGAH     SIMEULUE  2.645959  96.090894"
            ]
          },
          "metadata": {
            "tags": []
          },
          "execution_count": 47
        }
      ]
    },
    {
      "cell_type": "code",
      "metadata": {
        "id": "w8_ahqac69XM"
      },
      "source": [
        "del df_kec['foreign_nama'] # delete the foreign nama"
      ],
      "execution_count": null,
      "outputs": []
    },
    {
      "cell_type": "code",
      "metadata": {
        "colab": {
          "base_uri": "https://localhost:8080/",
          "height": 197
        },
        "id": "C5YJn3Gb7dVY",
        "outputId": "ceae23f1-da00-44de-ec97-4cac5e94c4ba"
      },
      "source": [
        "df_kec.head()"
      ],
      "execution_count": null,
      "outputs": [
        {
          "output_type": "execute_result",
          "data": {
            "text/html": [
              "<div>\n",
              "<style scoped>\n",
              "    .dataframe tbody tr th:only-of-type {\n",
              "        vertical-align: middle;\n",
              "    }\n",
              "\n",
              "    .dataframe tbody tr th {\n",
              "        vertical-align: top;\n",
              "    }\n",
              "\n",
              "    .dataframe thead th {\n",
              "        text-align: right;\n",
              "    }\n",
              "</style>\n",
              "<table border=\"1\" class=\"dataframe\">\n",
              "  <thead>\n",
              "    <tr style=\"text-align: right;\">\n",
              "      <th></th>\n",
              "      <th>id</th>\n",
              "      <th>foreign</th>\n",
              "      <th>name</th>\n",
              "      <th>lat</th>\n",
              "      <th>long</th>\n",
              "    </tr>\n",
              "  </thead>\n",
              "  <tbody>\n",
              "    <tr>\n",
              "      <th>0</th>\n",
              "      <td>1101010</td>\n",
              "      <td>1101</td>\n",
              "      <td>TEUPAH SELATAN</td>\n",
              "      <td>2.464285</td>\n",
              "      <td>96.520430</td>\n",
              "    </tr>\n",
              "    <tr>\n",
              "      <th>1</th>\n",
              "      <td>1101020</td>\n",
              "      <td>1101</td>\n",
              "      <td>SIMEULUE TIMUR</td>\n",
              "      <td>2.640112</td>\n",
              "      <td>96.580326</td>\n",
              "    </tr>\n",
              "    <tr>\n",
              "      <th>2</th>\n",
              "      <td>1101021</td>\n",
              "      <td>1101</td>\n",
              "      <td>TEUPAH BARAT</td>\n",
              "      <td>2.554213</td>\n",
              "      <td>96.349640</td>\n",
              "    </tr>\n",
              "    <tr>\n",
              "      <th>3</th>\n",
              "      <td>1101022</td>\n",
              "      <td>1101</td>\n",
              "      <td>TEUPAH TENGAH</td>\n",
              "      <td>2.411233</td>\n",
              "      <td>96.334985</td>\n",
              "    </tr>\n",
              "    <tr>\n",
              "      <th>4</th>\n",
              "      <td>1101030</td>\n",
              "      <td>1101</td>\n",
              "      <td>SIMEULUE TENGAH</td>\n",
              "      <td>2.645959</td>\n",
              "      <td>96.090894</td>\n",
              "    </tr>\n",
              "  </tbody>\n",
              "</table>\n",
              "</div>"
            ],
            "text/plain": [
              "        id  foreign             name       lat       long\n",
              "0  1101010     1101   TEUPAH SELATAN  2.464285  96.520430\n",
              "1  1101020     1101   SIMEULUE TIMUR  2.640112  96.580326\n",
              "2  1101021     1101     TEUPAH BARAT  2.554213  96.349640\n",
              "3  1101022     1101    TEUPAH TENGAH  2.411233  96.334985\n",
              "4  1101030     1101  SIMEULUE TENGAH  2.645959  96.090894"
            ]
          },
          "metadata": {
            "tags": []
          },
          "execution_count": 49
        }
      ]
    },
    {
      "cell_type": "code",
      "metadata": {
        "colab": {
          "base_uri": "https://localhost:8080/",
          "height": 16
        },
        "id": "6SmqT87X7eWr",
        "outputId": "b3ff2c13-85a3-499d-907f-784be924876c"
      },
      "source": [
        "df_kec.to_csv(KEC_OUTPUT_PATH, na_rep='null')\n",
        "files.download(KEC_OUTPUT_PATH)"
      ],
      "execution_count": null,
      "outputs": [
        {
          "output_type": "display_data",
          "data": {
            "application/javascript": [
              "\n",
              "    async function download(id, filename, size) {\n",
              "      if (!google.colab.kernel.accessAllowed) {\n",
              "        return;\n",
              "      }\n",
              "      const div = document.createElement('div');\n",
              "      const label = document.createElement('label');\n",
              "      label.textContent = `Downloading \"${filename}\": `;\n",
              "      div.appendChild(label);\n",
              "      const progress = document.createElement('progress');\n",
              "      progress.max = size;\n",
              "      div.appendChild(progress);\n",
              "      document.body.appendChild(div);\n",
              "\n",
              "      const buffers = [];\n",
              "      let downloaded = 0;\n",
              "\n",
              "      const channel = await google.colab.kernel.comms.open(id);\n",
              "      // Send a message to notify the kernel that we're ready.\n",
              "      channel.send({})\n",
              "\n",
              "      for await (const message of channel.messages) {\n",
              "        // Send a message to notify the kernel that we're ready.\n",
              "        channel.send({})\n",
              "        if (message.buffers) {\n",
              "          for (const buffer of message.buffers) {\n",
              "            buffers.push(buffer);\n",
              "            downloaded += buffer.byteLength;\n",
              "            progress.value = downloaded;\n",
              "          }\n",
              "        }\n",
              "      }\n",
              "      const blob = new Blob(buffers, {type: 'application/binary'});\n",
              "      const a = document.createElement('a');\n",
              "      a.href = window.URL.createObjectURL(blob);\n",
              "      a.download = filename;\n",
              "      div.appendChild(a);\n",
              "      a.click();\n",
              "      div.remove();\n",
              "    }\n",
              "  "
            ],
            "text/plain": [
              "<IPython.core.display.Javascript object>"
            ]
          },
          "metadata": {
            "tags": []
          }
        },
        {
          "output_type": "display_data",
          "data": {
            "application/javascript": [
              "download(\"download_6ed12790-6379-4439-b8b1-942cd5ff08b6\", \"kecamatan_lat_long.csv\", 420402)"
            ],
            "text/plain": [
              "<IPython.core.display.Javascript object>"
            ]
          },
          "metadata": {
            "tags": []
          }
        }
      ]
    },
    {
      "cell_type": "markdown",
      "metadata": {
        "id": "FmEnKKqTM_4Y"
      },
      "source": [
        "# Cleaning Kelurahan"
      ]
    },
    {
      "cell_type": "code",
      "metadata": {
        "colab": {
          "base_uri": "https://localhost:8080/",
          "height": 197
        },
        "id": "NwKoDUNvNF2p",
        "outputId": "d11c15f0-315c-4ee1-9a22-2f073ed3f29b"
      },
      "source": [
        "df_kel = pd.read_csv(KEL_INPUT_PATH)\n",
        "df_kel.head()"
      ],
      "execution_count": null,
      "outputs": [
        {
          "output_type": "execute_result",
          "data": {
            "text/html": [
              "<div>\n",
              "<style scoped>\n",
              "    .dataframe tbody tr th:only-of-type {\n",
              "        vertical-align: middle;\n",
              "    }\n",
              "\n",
              "    .dataframe tbody tr th {\n",
              "        vertical-align: top;\n",
              "    }\n",
              "\n",
              "    .dataframe thead th {\n",
              "        text-align: right;\n",
              "    }\n",
              "</style>\n",
              "<table border=\"1\" class=\"dataframe\">\n",
              "  <thead>\n",
              "    <tr style=\"text-align: right;\">\n",
              "      <th></th>\n",
              "      <th>id</th>\n",
              "      <th>foreign</th>\n",
              "      <th>name</th>\n",
              "    </tr>\n",
              "  </thead>\n",
              "  <tbody>\n",
              "    <tr>\n",
              "      <th>0</th>\n",
              "      <td>1101010001</td>\n",
              "      <td>1101010</td>\n",
              "      <td>LATIUNG</td>\n",
              "    </tr>\n",
              "    <tr>\n",
              "      <th>1</th>\n",
              "      <td>1101010002</td>\n",
              "      <td>1101010</td>\n",
              "      <td>LABUHAN BAJAU</td>\n",
              "    </tr>\n",
              "    <tr>\n",
              "      <th>2</th>\n",
              "      <td>1101010003</td>\n",
              "      <td>1101010</td>\n",
              "      <td>SUAK LAMATAN</td>\n",
              "    </tr>\n",
              "    <tr>\n",
              "      <th>3</th>\n",
              "      <td>1101010004</td>\n",
              "      <td>1101010</td>\n",
              "      <td>ANA AO</td>\n",
              "    </tr>\n",
              "    <tr>\n",
              "      <th>4</th>\n",
              "      <td>1101010005</td>\n",
              "      <td>1101010</td>\n",
              "      <td>LATALING</td>\n",
              "    </tr>\n",
              "  </tbody>\n",
              "</table>\n",
              "</div>"
            ],
            "text/plain": [
              "           id  foreign           name\n",
              "0  1101010001  1101010        LATIUNG\n",
              "1  1101010002  1101010  LABUHAN BAJAU\n",
              "2  1101010003  1101010   SUAK LAMATAN\n",
              "3  1101010004  1101010         ANA AO\n",
              "4  1101010005  1101010       LATALING"
            ]
          },
          "metadata": {
            "tags": []
          },
          "execution_count": 54
        }
      ]
    },
    {
      "cell_type": "code",
      "metadata": {
        "colab": {
          "base_uri": "https://localhost:8080/",
          "height": 197
        },
        "id": "yCTU9vIH72_Y",
        "outputId": "15d22615-08eb-44b2-af62-1b9dc3d133e6"
      },
      "source": [
        "df_kec_kel.head()"
      ],
      "execution_count": null,
      "outputs": [
        {
          "output_type": "execute_result",
          "data": {
            "text/html": [
              "<div>\n",
              "<style scoped>\n",
              "    .dataframe tbody tr th:only-of-type {\n",
              "        vertical-align: middle;\n",
              "    }\n",
              "\n",
              "    .dataframe tbody tr th {\n",
              "        vertical-align: top;\n",
              "    }\n",
              "\n",
              "    .dataframe thead th {\n",
              "        text-align: right;\n",
              "    }\n",
              "</style>\n",
              "<table border=\"1\" class=\"dataframe\">\n",
              "  <thead>\n",
              "    <tr style=\"text-align: right;\">\n",
              "      <th></th>\n",
              "      <th>Unnamed: 0</th>\n",
              "      <th>province</th>\n",
              "      <th>district</th>\n",
              "      <th>sub_district</th>\n",
              "      <th>village</th>\n",
              "      <th>approx_long</th>\n",
              "      <th>approx_lat</th>\n",
              "    </tr>\n",
              "  </thead>\n",
              "  <tbody>\n",
              "    <tr>\n",
              "      <th>0</th>\n",
              "      <td>0</td>\n",
              "      <td>ACEH</td>\n",
              "      <td>ACEH SELATAN</td>\n",
              "      <td>BAKONGAN</td>\n",
              "      <td>KEUDE BAKONGAN</td>\n",
              "      <td>97.475542</td>\n",
              "      <td>2.928458</td>\n",
              "    </tr>\n",
              "    <tr>\n",
              "      <th>1</th>\n",
              "      <td>1</td>\n",
              "      <td>ACEH</td>\n",
              "      <td>ACEH SELATAN</td>\n",
              "      <td>BAKONGAN</td>\n",
              "      <td>UJUNG MANGKI</td>\n",
              "      <td>97.446373</td>\n",
              "      <td>2.941181</td>\n",
              "    </tr>\n",
              "    <tr>\n",
              "      <th>2</th>\n",
              "      <td>2</td>\n",
              "      <td>ACEH</td>\n",
              "      <td>ACEH SELATAN</td>\n",
              "      <td>BAKONGAN</td>\n",
              "      <td>UJUNG PADANG</td>\n",
              "      <td>97.493403</td>\n",
              "      <td>2.941533</td>\n",
              "    </tr>\n",
              "    <tr>\n",
              "      <th>3</th>\n",
              "      <td>3</td>\n",
              "      <td>ACEH</td>\n",
              "      <td>ACEH SELATAN</td>\n",
              "      <td>BAKONGAN</td>\n",
              "      <td>KAMPONG DRIEN</td>\n",
              "      <td>97.478184</td>\n",
              "      <td>2.977676</td>\n",
              "    </tr>\n",
              "    <tr>\n",
              "      <th>4</th>\n",
              "      <td>4</td>\n",
              "      <td>ACEH</td>\n",
              "      <td>ACEH SELATAN</td>\n",
              "      <td>BAKONGAN</td>\n",
              "      <td>DARUL IKHSAN</td>\n",
              "      <td>97.418400</td>\n",
              "      <td>2.956487</td>\n",
              "    </tr>\n",
              "  </tbody>\n",
              "</table>\n",
              "</div>"
            ],
            "text/plain": [
              "   Unnamed: 0 province      district  ...         village approx_long  approx_lat\n",
              "0           0     ACEH  ACEH SELATAN  ...  KEUDE BAKONGAN   97.475542    2.928458\n",
              "1           1     ACEH  ACEH SELATAN  ...    UJUNG MANGKI   97.446373    2.941181\n",
              "2           2     ACEH  ACEH SELATAN  ...    UJUNG PADANG   97.493403    2.941533\n",
              "3           3     ACEH  ACEH SELATAN  ...   KAMPONG DRIEN   97.478184    2.977676\n",
              "4           4     ACEH  ACEH SELATAN  ...    DARUL IKHSAN   97.418400    2.956487\n",
              "\n",
              "[5 rows x 7 columns]"
            ]
          },
          "metadata": {
            "tags": []
          },
          "execution_count": 52
        }
      ]
    },
    {
      "cell_type": "code",
      "metadata": {
        "colab": {
          "base_uri": "https://localhost:8080/",
          "height": 197
        },
        "id": "4nSEdLazNbsK",
        "outputId": "d3b76d90-01cb-4674-98cf-d156dfceff6f"
      },
      "source": [
        "df_kel['foreign_nama'] = df_kel.apply(lambda row: getParentName(row, 'name', df_kec), axis=1) # like before, get the parent name\n",
        "df_kel.head()"
      ],
      "execution_count": null,
      "outputs": [
        {
          "output_type": "execute_result",
          "data": {
            "text/html": [
              "<div>\n",
              "<style scoped>\n",
              "    .dataframe tbody tr th:only-of-type {\n",
              "        vertical-align: middle;\n",
              "    }\n",
              "\n",
              "    .dataframe tbody tr th {\n",
              "        vertical-align: top;\n",
              "    }\n",
              "\n",
              "    .dataframe thead th {\n",
              "        text-align: right;\n",
              "    }\n",
              "</style>\n",
              "<table border=\"1\" class=\"dataframe\">\n",
              "  <thead>\n",
              "    <tr style=\"text-align: right;\">\n",
              "      <th></th>\n",
              "      <th>id</th>\n",
              "      <th>foreign</th>\n",
              "      <th>name</th>\n",
              "      <th>foreign_nama</th>\n",
              "    </tr>\n",
              "  </thead>\n",
              "  <tbody>\n",
              "    <tr>\n",
              "      <th>0</th>\n",
              "      <td>1101010001</td>\n",
              "      <td>1101010</td>\n",
              "      <td>LATIUNG</td>\n",
              "      <td>TEUPAH SELATAN</td>\n",
              "    </tr>\n",
              "    <tr>\n",
              "      <th>1</th>\n",
              "      <td>1101010002</td>\n",
              "      <td>1101010</td>\n",
              "      <td>LABUHAN BAJAU</td>\n",
              "      <td>TEUPAH SELATAN</td>\n",
              "    </tr>\n",
              "    <tr>\n",
              "      <th>2</th>\n",
              "      <td>1101010003</td>\n",
              "      <td>1101010</td>\n",
              "      <td>SUAK LAMATAN</td>\n",
              "      <td>TEUPAH SELATAN</td>\n",
              "    </tr>\n",
              "    <tr>\n",
              "      <th>3</th>\n",
              "      <td>1101010004</td>\n",
              "      <td>1101010</td>\n",
              "      <td>ANA AO</td>\n",
              "      <td>TEUPAH SELATAN</td>\n",
              "    </tr>\n",
              "    <tr>\n",
              "      <th>4</th>\n",
              "      <td>1101010005</td>\n",
              "      <td>1101010</td>\n",
              "      <td>LATALING</td>\n",
              "      <td>TEUPAH SELATAN</td>\n",
              "    </tr>\n",
              "  </tbody>\n",
              "</table>\n",
              "</div>"
            ],
            "text/plain": [
              "           id  foreign           name    foreign_nama\n",
              "0  1101010001  1101010        LATIUNG  TEUPAH SELATAN\n",
              "1  1101010002  1101010  LABUHAN BAJAU  TEUPAH SELATAN\n",
              "2  1101010003  1101010   SUAK LAMATAN  TEUPAH SELATAN\n",
              "3  1101010004  1101010         ANA AO  TEUPAH SELATAN\n",
              "4  1101010005  1101010       LATALING  TEUPAH SELATAN"
            ]
          },
          "metadata": {
            "tags": []
          },
          "execution_count": 63
        }
      ]
    },
    {
      "cell_type": "code",
      "metadata": {
        "colab": {
          "base_uri": "https://localhost:8080/",
          "height": 197
        },
        "id": "qarX1pRVQV9J",
        "outputId": "c66c27cb-30b2-4983-8378-7c3d4e4dc3bb"
      },
      "source": [
        "df_kel['lat'] = np.nan\n",
        "df_kel['long'] = np.nan\n",
        "for index, row in df_kel.iterrows():\n",
        "  try:\n",
        "    select = df_kec_kel[(df_kec_kel['sub_district'] == row['foreign_nama']) & (df_kec_kel['village'] == row['name'])].iloc[0]\n",
        "    df_kel.loc[index, 'lat'] = select['approx_lat']\n",
        "    df_kel.loc[index, 'long'] = select['approx_long']\n",
        "  except:\n",
        "    pass\n",
        "\n",
        "df_kel.head()"
      ],
      "execution_count": null,
      "outputs": [
        {
          "output_type": "execute_result",
          "data": {
            "text/html": [
              "<div>\n",
              "<style scoped>\n",
              "    .dataframe tbody tr th:only-of-type {\n",
              "        vertical-align: middle;\n",
              "    }\n",
              "\n",
              "    .dataframe tbody tr th {\n",
              "        vertical-align: top;\n",
              "    }\n",
              "\n",
              "    .dataframe thead th {\n",
              "        text-align: right;\n",
              "    }\n",
              "</style>\n",
              "<table border=\"1\" class=\"dataframe\">\n",
              "  <thead>\n",
              "    <tr style=\"text-align: right;\">\n",
              "      <th></th>\n",
              "      <th>id</th>\n",
              "      <th>foreign</th>\n",
              "      <th>name</th>\n",
              "      <th>foreign_nama</th>\n",
              "      <th>lat</th>\n",
              "      <th>long</th>\n",
              "    </tr>\n",
              "  </thead>\n",
              "  <tbody>\n",
              "    <tr>\n",
              "      <th>0</th>\n",
              "      <td>1101010001</td>\n",
              "      <td>1101010</td>\n",
              "      <td>LATIUNG</td>\n",
              "      <td>TEUPAH SELATAN</td>\n",
              "      <td>2.357417</td>\n",
              "      <td>96.452420</td>\n",
              "    </tr>\n",
              "    <tr>\n",
              "      <th>1</th>\n",
              "      <td>1101010002</td>\n",
              "      <td>1101010</td>\n",
              "      <td>LABUHAN BAJAU</td>\n",
              "      <td>TEUPAH SELATAN</td>\n",
              "      <td>2.391348</td>\n",
              "      <td>96.479117</td>\n",
              "    </tr>\n",
              "    <tr>\n",
              "      <th>2</th>\n",
              "      <td>1101010003</td>\n",
              "      <td>1101010</td>\n",
              "      <td>SUAK LAMATAN</td>\n",
              "      <td>TEUPAH SELATAN</td>\n",
              "      <td>2.353943</td>\n",
              "      <td>96.364809</td>\n",
              "    </tr>\n",
              "    <tr>\n",
              "      <th>3</th>\n",
              "      <td>1101010004</td>\n",
              "      <td>1101010</td>\n",
              "      <td>ANA AO</td>\n",
              "      <td>TEUPAH SELATAN</td>\n",
              "      <td>2.439100</td>\n",
              "      <td>96.450882</td>\n",
              "    </tr>\n",
              "    <tr>\n",
              "      <th>4</th>\n",
              "      <td>1101010005</td>\n",
              "      <td>1101010</td>\n",
              "      <td>LATALING</td>\n",
              "      <td>TEUPAH SELATAN</td>\n",
              "      <td>2.458705</td>\n",
              "      <td>96.455400</td>\n",
              "    </tr>\n",
              "  </tbody>\n",
              "</table>\n",
              "</div>"
            ],
            "text/plain": [
              "           id  foreign           name    foreign_nama       lat       long\n",
              "0  1101010001  1101010        LATIUNG  TEUPAH SELATAN  2.357417  96.452420\n",
              "1  1101010002  1101010  LABUHAN BAJAU  TEUPAH SELATAN  2.391348  96.479117\n",
              "2  1101010003  1101010   SUAK LAMATAN  TEUPAH SELATAN  2.353943  96.364809\n",
              "3  1101010004  1101010         ANA AO  TEUPAH SELATAN  2.439100  96.450882\n",
              "4  1101010005  1101010       LATALING  TEUPAH SELATAN  2.458705  96.455400"
            ]
          },
          "metadata": {
            "tags": []
          },
          "execution_count": 66
        }
      ]
    },
    {
      "cell_type": "code",
      "metadata": {
        "id": "YIxqpFjbOq1m"
      },
      "source": [
        "del df_kel['foreign_nama']"
      ],
      "execution_count": null,
      "outputs": []
    },
    {
      "cell_type": "code",
      "metadata": {
        "colab": {
          "base_uri": "https://localhost:8080/",
          "height": 406
        },
        "id": "vBGa_nyiVS7r",
        "outputId": "381a24fc-5946-4dd4-f2ab-07b949024742"
      },
      "source": [
        "df_kel"
      ],
      "execution_count": null,
      "outputs": [
        {
          "output_type": "execute_result",
          "data": {
            "text/html": [
              "<div>\n",
              "<style scoped>\n",
              "    .dataframe tbody tr th:only-of-type {\n",
              "        vertical-align: middle;\n",
              "    }\n",
              "\n",
              "    .dataframe tbody tr th {\n",
              "        vertical-align: top;\n",
              "    }\n",
              "\n",
              "    .dataframe thead th {\n",
              "        text-align: right;\n",
              "    }\n",
              "</style>\n",
              "<table border=\"1\" class=\"dataframe\">\n",
              "  <thead>\n",
              "    <tr style=\"text-align: right;\">\n",
              "      <th></th>\n",
              "      <th>id</th>\n",
              "      <th>foreign</th>\n",
              "      <th>name</th>\n",
              "      <th>lat</th>\n",
              "      <th>long</th>\n",
              "    </tr>\n",
              "  </thead>\n",
              "  <tbody>\n",
              "    <tr>\n",
              "      <th>0</th>\n",
              "      <td>1101010001</td>\n",
              "      <td>1101010</td>\n",
              "      <td>LATIUNG</td>\n",
              "      <td>2.357417</td>\n",
              "      <td>96.452420</td>\n",
              "    </tr>\n",
              "    <tr>\n",
              "      <th>1</th>\n",
              "      <td>1101010002</td>\n",
              "      <td>1101010</td>\n",
              "      <td>LABUHAN BAJAU</td>\n",
              "      <td>2.391348</td>\n",
              "      <td>96.479117</td>\n",
              "    </tr>\n",
              "    <tr>\n",
              "      <th>2</th>\n",
              "      <td>1101010003</td>\n",
              "      <td>1101010</td>\n",
              "      <td>SUAK LAMATAN</td>\n",
              "      <td>2.353943</td>\n",
              "      <td>96.364809</td>\n",
              "    </tr>\n",
              "    <tr>\n",
              "      <th>3</th>\n",
              "      <td>1101010004</td>\n",
              "      <td>1101010</td>\n",
              "      <td>ANA AO</td>\n",
              "      <td>2.439100</td>\n",
              "      <td>96.450882</td>\n",
              "    </tr>\n",
              "    <tr>\n",
              "      <th>4</th>\n",
              "      <td>1101010005</td>\n",
              "      <td>1101010</td>\n",
              "      <td>LATALING</td>\n",
              "      <td>2.458705</td>\n",
              "      <td>96.455400</td>\n",
              "    </tr>\n",
              "    <tr>\n",
              "      <th>...</th>\n",
              "      <td>...</td>\n",
              "      <td>...</td>\n",
              "      <td>...</td>\n",
              "      <td>...</td>\n",
              "      <td>...</td>\n",
              "    </tr>\n",
              "    <tr>\n",
              "      <th>80529</th>\n",
              "      <td>9471040003</td>\n",
              "      <td>9471040</td>\n",
              "      <td>MANDALA</td>\n",
              "      <td>-2.532777</td>\n",
              "      <td>140.720393</td>\n",
              "    </tr>\n",
              "    <tr>\n",
              "      <th>80530</th>\n",
              "      <td>9471040004</td>\n",
              "      <td>9471040</td>\n",
              "      <td>TRIKORA</td>\n",
              "      <td>-2.526176</td>\n",
              "      <td>140.717732</td>\n",
              "    </tr>\n",
              "    <tr>\n",
              "      <th>80531</th>\n",
              "      <td>9471040005</td>\n",
              "      <td>9471040</td>\n",
              "      <td>ANGKASAPURA</td>\n",
              "      <td>-2.510101</td>\n",
              "      <td>140.697874</td>\n",
              "    </tr>\n",
              "    <tr>\n",
              "      <th>80532</th>\n",
              "      <td>9471040007</td>\n",
              "      <td>9471040</td>\n",
              "      <td>TANJUNG RIA</td>\n",
              "      <td>-2.500108</td>\n",
              "      <td>140.709474</td>\n",
              "    </tr>\n",
              "    <tr>\n",
              "      <th>80533</th>\n",
              "      <td>9471040008</td>\n",
              "      <td>9471040</td>\n",
              "      <td>KAMPUNG KAYOBATU</td>\n",
              "      <td>NaN</td>\n",
              "      <td>NaN</td>\n",
              "    </tr>\n",
              "  </tbody>\n",
              "</table>\n",
              "<p>80534 rows × 5 columns</p>\n",
              "</div>"
            ],
            "text/plain": [
              "               id  foreign              name       lat        long\n",
              "0      1101010001  1101010           LATIUNG  2.357417   96.452420\n",
              "1      1101010002  1101010     LABUHAN BAJAU  2.391348   96.479117\n",
              "2      1101010003  1101010      SUAK LAMATAN  2.353943   96.364809\n",
              "3      1101010004  1101010            ANA AO  2.439100   96.450882\n",
              "4      1101010005  1101010          LATALING  2.458705   96.455400\n",
              "...           ...      ...               ...       ...         ...\n",
              "80529  9471040003  9471040           MANDALA -2.532777  140.720393\n",
              "80530  9471040004  9471040           TRIKORA -2.526176  140.717732\n",
              "80531  9471040005  9471040       ANGKASAPURA -2.510101  140.697874\n",
              "80532  9471040007  9471040       TANJUNG RIA -2.500108  140.709474\n",
              "80533  9471040008  9471040  KAMPUNG KAYOBATU       NaN         NaN\n",
              "\n",
              "[80534 rows x 5 columns]"
            ]
          },
          "metadata": {
            "tags": []
          },
          "execution_count": 69
        }
      ]
    },
    {
      "cell_type": "code",
      "metadata": {
        "id": "8s-fFCXlVVwH"
      },
      "source": [
        "df_kel.to_csv(KEL_OUTPUT_PATH, na_rep='null')\n",
        "files.download(KEL_OUTPUT_PATH)"
      ],
      "execution_count": null,
      "outputs": []
    },
    {
      "cell_type": "code",
      "metadata": {
        "id": "MdfSR-fwVh0l"
      },
      "source": [
        ""
      ],
      "execution_count": null,
      "outputs": []
    }
  ]
}